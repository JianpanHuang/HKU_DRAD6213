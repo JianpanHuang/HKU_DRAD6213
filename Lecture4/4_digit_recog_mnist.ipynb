{
  "nbformat": 4,
  "nbformat_minor": 0,
  "metadata": {
    "colab": {
      "provenance": [],
      "gpuType": "T4"
    },
    "kernelspec": {
      "name": "python3",
      "display_name": "Python 3"
    },
    "language_info": {
      "name": "python"
    },
    "accelerator": "GPU"
  },
  "cells": [
    {
      "cell_type": "markdown",
      "source": [],
      "metadata": {
        "id": "vaYudoJ1niI1"
      }
    },
    {
      "cell_type": "code",
      "source": [
        "#@title Insatlling PyTorch\n",
        "\n",
        "!pip install torch\n",
        "!pip install torchvision"
      ],
      "metadata": {
        "colab": {
          "base_uri": "https://localhost:8080/"
        },
        "id": "9WvWcgWLnjqH",
        "outputId": "82002865-d5d4-49c0-b79d-cd033641ffd9"
      },
      "execution_count": null,
      "outputs": [
        {
          "output_type": "stream",
          "name": "stdout",
          "text": [
            "Requirement already satisfied: torch in /usr/local/lib/python3.11/dist-packages (2.5.1+cu124)\n",
            "Requirement already satisfied: filelock in /usr/local/lib/python3.11/dist-packages (from torch) (3.17.0)\n",
            "Requirement already satisfied: typing-extensions>=4.8.0 in /usr/local/lib/python3.11/dist-packages (from torch) (4.12.2)\n",
            "Requirement already satisfied: networkx in /usr/local/lib/python3.11/dist-packages (from torch) (3.4.2)\n",
            "Requirement already satisfied: jinja2 in /usr/local/lib/python3.11/dist-packages (from torch) (3.1.5)\n",
            "Requirement already satisfied: fsspec in /usr/local/lib/python3.11/dist-packages (from torch) (2024.10.0)\n",
            "Requirement already satisfied: nvidia-cuda-nvrtc-cu12==12.4.127 in /usr/local/lib/python3.11/dist-packages (from torch) (12.4.127)\n",
            "Requirement already satisfied: nvidia-cuda-runtime-cu12==12.4.127 in /usr/local/lib/python3.11/dist-packages (from torch) (12.4.127)\n",
            "Requirement already satisfied: nvidia-cuda-cupti-cu12==12.4.127 in /usr/local/lib/python3.11/dist-packages (from torch) (12.4.127)\n",
            "Requirement already satisfied: nvidia-cudnn-cu12==9.1.0.70 in /usr/local/lib/python3.11/dist-packages (from torch) (9.1.0.70)\n",
            "Requirement already satisfied: nvidia-cublas-cu12==12.4.5.8 in /usr/local/lib/python3.11/dist-packages (from torch) (12.4.5.8)\n",
            "Requirement already satisfied: nvidia-cufft-cu12==11.2.1.3 in /usr/local/lib/python3.11/dist-packages (from torch) (11.2.1.3)\n",
            "Requirement already satisfied: nvidia-curand-cu12==10.3.5.147 in /usr/local/lib/python3.11/dist-packages (from torch) (10.3.5.147)\n",
            "Requirement already satisfied: nvidia-cusolver-cu12==11.6.1.9 in /usr/local/lib/python3.11/dist-packages (from torch) (11.6.1.9)\n",
            "Requirement already satisfied: nvidia-cusparse-cu12==12.3.1.170 in /usr/local/lib/python3.11/dist-packages (from torch) (12.3.1.170)\n",
            "Requirement already satisfied: nvidia-nccl-cu12==2.21.5 in /usr/local/lib/python3.11/dist-packages (from torch) (2.21.5)\n",
            "Requirement already satisfied: nvidia-nvtx-cu12==12.4.127 in /usr/local/lib/python3.11/dist-packages (from torch) (12.4.127)\n",
            "Requirement already satisfied: nvidia-nvjitlink-cu12==12.4.127 in /usr/local/lib/python3.11/dist-packages (from torch) (12.4.127)\n",
            "Requirement already satisfied: triton==3.1.0 in /usr/local/lib/python3.11/dist-packages (from torch) (3.1.0)\n",
            "Requirement already satisfied: sympy==1.13.1 in /usr/local/lib/python3.11/dist-packages (from torch) (1.13.1)\n",
            "Requirement already satisfied: mpmath<1.4,>=1.1.0 in /usr/local/lib/python3.11/dist-packages (from sympy==1.13.1->torch) (1.3.0)\n",
            "Requirement already satisfied: MarkupSafe>=2.0 in /usr/local/lib/python3.11/dist-packages (from jinja2->torch) (3.0.2)\n",
            "Requirement already satisfied: torchvision in /usr/local/lib/python3.11/dist-packages (0.20.1+cu124)\n",
            "Requirement already satisfied: numpy in /usr/local/lib/python3.11/dist-packages (from torchvision) (1.26.4)\n",
            "Requirement already satisfied: torch==2.5.1 in /usr/local/lib/python3.11/dist-packages (from torchvision) (2.5.1+cu124)\n",
            "Requirement already satisfied: pillow!=8.3.*,>=5.3.0 in /usr/local/lib/python3.11/dist-packages (from torchvision) (11.1.0)\n",
            "Requirement already satisfied: filelock in /usr/local/lib/python3.11/dist-packages (from torch==2.5.1->torchvision) (3.17.0)\n",
            "Requirement already satisfied: typing-extensions>=4.8.0 in /usr/local/lib/python3.11/dist-packages (from torch==2.5.1->torchvision) (4.12.2)\n",
            "Requirement already satisfied: networkx in /usr/local/lib/python3.11/dist-packages (from torch==2.5.1->torchvision) (3.4.2)\n",
            "Requirement already satisfied: jinja2 in /usr/local/lib/python3.11/dist-packages (from torch==2.5.1->torchvision) (3.1.5)\n",
            "Requirement already satisfied: fsspec in /usr/local/lib/python3.11/dist-packages (from torch==2.5.1->torchvision) (2024.10.0)\n",
            "Requirement already satisfied: nvidia-cuda-nvrtc-cu12==12.4.127 in /usr/local/lib/python3.11/dist-packages (from torch==2.5.1->torchvision) (12.4.127)\n",
            "Requirement already satisfied: nvidia-cuda-runtime-cu12==12.4.127 in /usr/local/lib/python3.11/dist-packages (from torch==2.5.1->torchvision) (12.4.127)\n",
            "Requirement already satisfied: nvidia-cuda-cupti-cu12==12.4.127 in /usr/local/lib/python3.11/dist-packages (from torch==2.5.1->torchvision) (12.4.127)\n",
            "Requirement already satisfied: nvidia-cudnn-cu12==9.1.0.70 in /usr/local/lib/python3.11/dist-packages (from torch==2.5.1->torchvision) (9.1.0.70)\n",
            "Requirement already satisfied: nvidia-cublas-cu12==12.4.5.8 in /usr/local/lib/python3.11/dist-packages (from torch==2.5.1->torchvision) (12.4.5.8)\n",
            "Requirement already satisfied: nvidia-cufft-cu12==11.2.1.3 in /usr/local/lib/python3.11/dist-packages (from torch==2.5.1->torchvision) (11.2.1.3)\n",
            "Requirement already satisfied: nvidia-curand-cu12==10.3.5.147 in /usr/local/lib/python3.11/dist-packages (from torch==2.5.1->torchvision) (10.3.5.147)\n",
            "Requirement already satisfied: nvidia-cusolver-cu12==11.6.1.9 in /usr/local/lib/python3.11/dist-packages (from torch==2.5.1->torchvision) (11.6.1.9)\n",
            "Requirement already satisfied: nvidia-cusparse-cu12==12.3.1.170 in /usr/local/lib/python3.11/dist-packages (from torch==2.5.1->torchvision) (12.3.1.170)\n",
            "Requirement already satisfied: nvidia-nccl-cu12==2.21.5 in /usr/local/lib/python3.11/dist-packages (from torch==2.5.1->torchvision) (2.21.5)\n",
            "Requirement already satisfied: nvidia-nvtx-cu12==12.4.127 in /usr/local/lib/python3.11/dist-packages (from torch==2.5.1->torchvision) (12.4.127)\n",
            "Requirement already satisfied: nvidia-nvjitlink-cu12==12.4.127 in /usr/local/lib/python3.11/dist-packages (from torch==2.5.1->torchvision) (12.4.127)\n",
            "Requirement already satisfied: triton==3.1.0 in /usr/local/lib/python3.11/dist-packages (from torch==2.5.1->torchvision) (3.1.0)\n",
            "Requirement already satisfied: sympy==1.13.1 in /usr/local/lib/python3.11/dist-packages (from torch==2.5.1->torchvision) (1.13.1)\n",
            "Requirement already satisfied: mpmath<1.4,>=1.1.0 in /usr/local/lib/python3.11/dist-packages (from sympy==1.13.1->torch==2.5.1->torchvision) (1.3.0)\n",
            "Requirement already satisfied: MarkupSafe>=2.0 in /usr/local/lib/python3.11/dist-packages (from jinja2->torch==2.5.1->torchvision) (3.0.2)\n"
          ]
        }
      ]
    },
    {
      "cell_type": "code",
      "source": [
        "#@title Import dependencies\n",
        "\n",
        "import torch\n",
        "import torch.nn as nn\n",
        "import torchvision.datasets as dsets\n",
        "import torchvision.transforms as transforms\n",
        "import matplotlib.pyplot as plt\n",
        "from torch.autograd import Variable"
      ],
      "metadata": {
        "id": "E6v7hk6boFnO"
      },
      "execution_count": 162,
      "outputs": []
    },
    {
      "cell_type": "code",
      "source": [
        "#@title Define hyperparameters\n",
        "\n",
        "input_size = 784 # img_size = (28,28) ---> 28*28=784 in total\n",
        "hidden_size = [100] # number of neurons at hidden layer\n",
        "num_classes = 10 # number of output classes discrete range [0,9]\n",
        "num_epochs = 20 # number of times which the entire dataset is passed throughout the model\n",
        "batch_size = 100 # the size of input data took for one iteration\n",
        "lr = 1e-3 # size of step"
      ],
      "metadata": {
        "id": "prMdDbQKGSiV"
      },
      "execution_count": 163,
      "outputs": []
    },
    {
      "cell_type": "code",
      "source": [
        "#@title Downloading MNIST data\n",
        "\n",
        "train_data = dsets.MNIST(root = './data', train = True,\n",
        "                        transform = transforms.ToTensor(), download = True)\n",
        "test_data = dsets.MNIST(root = './data', train = False,\n",
        "                       transform = transforms.ToTensor())\n",
        "print(\"Size of the train dataset:\",tuple(train_data.data.shape))\n",
        "print(\"Size of the test dataset:\",tuple(test_data.data.shape))"
      ],
      "metadata": {
        "id": "ACOmeweToZUS",
        "colab": {
          "base_uri": "https://localhost:8080/"
        },
        "outputId": "548a7c51-a065-425c-f249-67b0f18bdb99"
      },
      "execution_count": 164,
      "outputs": [
        {
          "output_type": "stream",
          "name": "stdout",
          "text": [
            "Size of the train dataset: (60000, 28, 28)\n",
            "Size of the test dataset: (10000, 28, 28)\n"
          ]
        }
      ]
    },
    {
      "cell_type": "code",
      "source": [
        "#@title Loading the data\n",
        "\n",
        "train_loader = torch.utils.data.DataLoader(dataset = train_data,\n",
        "                                             batch_size = batch_size,\n",
        "                                             shuffle = True)\n",
        "test_loder = torch.utils.data.DataLoader(dataset = test_data,\n",
        "                                      batch_size = batch_size,\n",
        "                                      shuffle = False)"
      ],
      "metadata": {
        "id": "27ALQJtxoevE"
      },
      "execution_count": 165,
      "outputs": []
    },
    {
      "cell_type": "code",
      "source": [
        "#@title Show the data\n",
        "\n",
        "images = train_data.data\n",
        "labels = train_data.targets\n",
        "image = images[7]\n",
        "label = labels[7]\n",
        "print(\"Image size:\",tuple(image.shape))\n",
        "print(\"Label of this image:\",label.numpy())\n",
        "plt.imshow(image.numpy().squeeze())"
      ],
      "metadata": {
        "colab": {
          "base_uri": "https://localhost:8080/",
          "height": 484
        },
        "id": "uSCGZBr5Eun_",
        "outputId": "2d905664-a1e6-4db1-84a5-29f09c8b11b0"
      },
      "execution_count": 166,
      "outputs": [
        {
          "output_type": "stream",
          "name": "stdout",
          "text": [
            "Image size: (28, 28)\n",
            "Label of this image: 3\n"
          ]
        },
        {
          "output_type": "execute_result",
          "data": {
            "text/plain": [
              "<matplotlib.image.AxesImage at 0x7b81b0764a10>"
            ]
          },
          "metadata": {},
          "execution_count": 166
        },
        {
          "output_type": "display_data",
          "data": {
            "text/plain": [
              "<Figure size 640x480 with 1 Axes>"
            ],
            "image/png": "[encoded data removed]"
          },
          "metadata": {}
        }
      ]
    },
    {
      "cell_type": "code",
      "source": [
        "#@title Define model class\n",
        "\n",
        "class FCNN(nn.Module):\n",
        "    def __init__(self, input_size, hidden_sizes, output_size):\n",
        "        super(FCNN, self).__init__()\n",
        "\n",
        "        layer_sizes = [input_size] + hidden_sizes + [output_size]\n",
        "        layers = []\n",
        "\n",
        "        for i in range(len(layer_sizes) - 1):\n",
        "            layers.append(nn.Linear(layer_sizes[i], layer_sizes[i+1]))\n",
        "            if i < len(layer_sizes) - 2:\n",
        "                layers.append(nn.ReLU())  # Using ReLU activation function\n",
        "\n",
        "        self.model = nn.Sequential(*layers)\n",
        "\n",
        "    def forward(self, x):\n",
        "        return self.model(x)"
      ],
      "metadata": {
        "id": "ZZ3vkuxlokMv"
      },
      "execution_count": 167,
      "outputs": []
    },
    {
      "cell_type": "code",
      "source": [
        "#@title Build the model\n",
        "\n",
        "net = FCNN(input_size, hidden_size, num_classes)\n",
        "if torch.cuda.is_available():\n",
        "  net.cuda()"
      ],
      "metadata": {
        "id": "AotOLwnWo0rq"
      },
      "execution_count": 168,
      "outputs": []
    },
    {
      "cell_type": "code",
      "source": [
        "#@title Define loss-function & optimizer\n",
        "\n",
        "loss_function = nn.CrossEntropyLoss()\n",
        "optimizer = torch.optim.Adam( net.parameters(), lr=lr)"
      ],
      "metadata": {
        "id": "sLVB5Eh_pDke"
      },
      "execution_count": 169,
      "outputs": []
    },
    {
      "cell_type": "code",
      "source": [
        "#@title Training the model\n",
        "\n",
        "losses = []\n",
        "for epoch in range(num_epochs):\n",
        "  for i ,(images,labels) in enumerate(train_loader):\n",
        "    images = Variable(images.view(-1,28*28)).cuda()\n",
        "    labels = Variable(labels).cuda()\n",
        "    optimizer.zero_grad()\n",
        "    outputs = net(images)\n",
        "    loss = loss_function(outputs, labels)\n",
        "    loss.backward()\n",
        "    optimizer.step()\n",
        "\n",
        "    if (i+1) % batch_size == 0:\n",
        "      print('Epoch [%d/%d], Step [%d/%d], Loss: %.4f'\n",
        "                 %(epoch+1, num_epochs, i+1, len(train_data)//batch_size, loss.data))\n",
        "  losses.append(loss.data.cpu())"
      ],
      "metadata": {
        "colab": {
          "base_uri": "https://localhost:8080/"
        },
        "id": "PmekcRCNpKCQ",
        "outputId": "2c292804-35ec-4630-b7ea-b37101526b7b"
      },
      "execution_count": 170,
      "outputs": [
        {
          "output_type": "stream",
          "name": "stdout",
          "text": [
            "Epoch [1/20], Step [100/600], Loss: 0.4899\n",
            "Epoch [1/20], Step [200/600], Loss: 0.4410\n",
            "Epoch [1/20], Step [300/600], Loss: 0.3334\n",
            "Epoch [1/20], Step [400/600], Loss: 0.3570\n",
            "Epoch [1/20], Step [500/600], Loss: 0.2630\n",
            "Epoch [1/20], Step [600/600], Loss: 0.2506\n",
            "Epoch [2/20], Step [100/600], Loss: 0.2877\n",
            "Epoch [2/20], Step [200/600], Loss: 0.1974\n",
            "Epoch [2/20], Step [300/600], Loss: 0.1683\n",
            "Epoch [2/20], Step [400/600], Loss: 0.0986\n",
            "Epoch [2/20], Step [500/600], Loss: 0.0823\n",
            "Epoch [2/20], Step [600/600], Loss: 0.0945\n",
            "Epoch [3/20], Step [100/600], Loss: 0.0854\n",
            "Epoch [3/20], Step [200/600], Loss: 0.1298\n",
            "Epoch [3/20], Step [300/600], Loss: 0.1953\n",
            "Epoch [3/20], Step [400/600], Loss: 0.1551\n",
            "Epoch [3/20], Step [500/600], Loss: 0.0581\n",
            "Epoch [3/20], Step [600/600], Loss: 0.1680\n",
            "Epoch [4/20], Step [100/600], Loss: 0.0966\n",
            "Epoch [4/20], Step [200/600], Loss: 0.0868\n",
            "Epoch [4/20], Step [300/600], Loss: 0.2059\n",
            "Epoch [4/20], Step [400/600], Loss: 0.0390\n",
            "Epoch [4/20], Step [500/600], Loss: 0.1057\n",
            "Epoch [4/20], Step [600/600], Loss: 0.0450\n",
            "Epoch [5/20], Step [100/600], Loss: 0.0523\n",
            "Epoch [5/20], Step [200/600], Loss: 0.0961\n",
            "Epoch [5/20], Step [300/600], Loss: 0.0723\n",
            "Epoch [5/20], Step [400/600], Loss: 0.2019\n",
            "Epoch [5/20], Step [500/600], Loss: 0.0955\n",
            "Epoch [5/20], Step [600/600], Loss: 0.1719\n",
            "Epoch [6/20], Step [100/600], Loss: 0.0835\n",
            "Epoch [6/20], Step [200/600], Loss: 0.0609\n",
            "Epoch [6/20], Step [300/600], Loss: 0.0573\n",
            "Epoch [6/20], Step [400/600], Loss: 0.0787\n",
            "Epoch [6/20], Step [500/600], Loss: 0.0753\n",
            "Epoch [6/20], Step [600/600], Loss: 0.1241\n",
            "Epoch [7/20], Step [100/600], Loss: 0.0503\n",
            "Epoch [7/20], Step [200/600], Loss: 0.0898\n",
            "Epoch [7/20], Step [300/600], Loss: 0.0351\n",
            "Epoch [7/20], Step [400/600], Loss: 0.1160\n",
            "Epoch [7/20], Step [500/600], Loss: 0.0851\n",
            "Epoch [7/20], Step [600/600], Loss: 0.0249\n",
            "Epoch [8/20], Step [100/600], Loss: 0.0302\n",
            "Epoch [8/20], Step [200/600], Loss: 0.0465\n",
            "Epoch [8/20], Step [300/600], Loss: 0.0746\n",
            "Epoch [8/20], Step [400/600], Loss: 0.0233\n",
            "Epoch [8/20], Step [500/600], Loss: 0.0383\n",
            "Epoch [8/20], Step [600/600], Loss: 0.0763\n",
            "Epoch [9/20], Step [100/600], Loss: 0.0250\n",
            "Epoch [9/20], Step [200/600], Loss: 0.0253\n",
            "Epoch [9/20], Step [300/600], Loss: 0.1636\n",
            "Epoch [9/20], Step [400/600], Loss: 0.0785\n",
            "Epoch [9/20], Step [500/600], Loss: 0.0367\n",
            "Epoch [9/20], Step [600/600], Loss: 0.0809\n",
            "Epoch [10/20], Step [100/600], Loss: 0.0210\n",
            "Epoch [10/20], Step [200/600], Loss: 0.0189\n",
            "Epoch [10/20], Step [300/600], Loss: 0.0528\n",
            "Epoch [10/20], Step [400/600], Loss: 0.0892\n",
            "Epoch [10/20], Step [500/600], Loss: 0.0424\n",
            "Epoch [10/20], Step [600/600], Loss: 0.0383\n",
            "Epoch [11/20], Step [100/600], Loss: 0.0140\n",
            "Epoch [11/20], Step [200/600], Loss: 0.0506\n",
            "Epoch [11/20], Step [300/600], Loss: 0.0352\n",
            "Epoch [11/20], Step [400/600], Loss: 0.0715\n",
            "Epoch [11/20], Step [500/600], Loss: 0.0435\n",
            "Epoch [11/20], Step [600/600], Loss: 0.1904\n",
            "Epoch [12/20], Step [100/600], Loss: 0.0456\n",
            "Epoch [12/20], Step [200/600], Loss: 0.0194\n",
            "Epoch [12/20], Step [300/600], Loss: 0.0339\n",
            "Epoch [12/20], Step [400/600], Loss: 0.0230\n",
            "Epoch [12/20], Step [500/600], Loss: 0.0204\n",
            "Epoch [12/20], Step [600/600], Loss: 0.0203\n",
            "Epoch [13/20], Step [100/600], Loss: 0.0334\n",
            "Epoch [13/20], Step [200/600], Loss: 0.0445\n",
            "Epoch [13/20], Step [300/600], Loss: 0.0533\n",
            "Epoch [13/20], Step [400/600], Loss: 0.0071\n",
            "Epoch [13/20], Step [500/600], Loss: 0.0184\n",
            "Epoch [13/20], Step [600/600], Loss: 0.0074\n",
            "Epoch [14/20], Step [100/600], Loss: 0.0150\n",
            "Epoch [14/20], Step [200/600], Loss: 0.0355\n",
            "Epoch [14/20], Step [300/600], Loss: 0.0131\n",
            "Epoch [14/20], Step [400/600], Loss: 0.0156\n",
            "Epoch [14/20], Step [500/600], Loss: 0.0386\n",
            "Epoch [14/20], Step [600/600], Loss: 0.0151\n",
            "Epoch [15/20], Step [100/600], Loss: 0.0212\n",
            "Epoch [15/20], Step [200/600], Loss: 0.0132\n",
            "Epoch [15/20], Step [300/600], Loss: 0.0095\n",
            "Epoch [15/20], Step [400/600], Loss: 0.0170\n",
            "Epoch [15/20], Step [500/600], Loss: 0.0325\n",
            "Epoch [15/20], Step [600/600], Loss: 0.0128\n",
            "Epoch [16/20], Step [100/600], Loss: 0.0055\n",
            "Epoch [16/20], Step [200/600], Loss: 0.0103\n",
            "Epoch [16/20], Step [300/600], Loss: 0.0067\n",
            "Epoch [16/20], Step [400/600], Loss: 0.0190\n",
            "Epoch [16/20], Step [500/600], Loss: 0.0058\n",
            "Epoch [16/20], Step [600/600], Loss: 0.0045\n",
            "Epoch [17/20], Step [100/600], Loss: 0.0076\n",
            "Epoch [17/20], Step [200/600], Loss: 0.0374\n",
            "Epoch [17/20], Step [300/600], Loss: 0.0215\n",
            "Epoch [17/20], Step [400/600], Loss: 0.0053\n",
            "Epoch [17/20], Step [500/600], Loss: 0.0334\n",
            "Epoch [17/20], Step [600/600], Loss: 0.0080\n",
            "Epoch [18/20], Step [100/600], Loss: 0.0092\n",
            "Epoch [18/20], Step [200/600], Loss: 0.0047\n",
            "Epoch [18/20], Step [300/600], Loss: 0.0022\n",
            "Epoch [18/20], Step [400/600], Loss: 0.0174\n",
            "Epoch [18/20], Step [500/600], Loss: 0.0111\n",
            "Epoch [18/20], Step [600/600], Loss: 0.0107\n",
            "Epoch [19/20], Step [100/600], Loss: 0.0056\n",
            "Epoch [19/20], Step [200/600], Loss: 0.0191\n",
            "Epoch [19/20], Step [300/600], Loss: 0.0085\n",
            "Epoch [19/20], Step [400/600], Loss: 0.0163\n",
            "Epoch [19/20], Step [500/600], Loss: 0.0120\n",
            "Epoch [19/20], Step [600/600], Loss: 0.0029\n",
            "Epoch [20/20], Step [100/600], Loss: 0.0190\n",
            "Epoch [20/20], Step [200/600], Loss: 0.0117\n",
            "Epoch [20/20], Step [300/600], Loss: 0.0197\n",
            "Epoch [20/20], Step [400/600], Loss: 0.0020\n",
            "Epoch [20/20], Step [500/600], Loss: 0.0197\n",
            "Epoch [20/20], Step [600/600], Loss: 0.0026\n"
          ]
        }
      ]
    },
    {
      "cell_type": "code",
      "source": [
        "# Plot the loss curve\n",
        "plt.figure(figsize=(10, 5))\n",
        "plt.plot(range(len(losses)), losses, label='Training Loss')\n",
        "plt.xlabel('Iterations')\n",
        "plt.ylabel('Loss')\n",
        "plt.title('Training Loss Curve')\n",
        "plt.legend()"
      ],
      "metadata": {
        "colab": {
          "base_uri": "https://localhost:8080/",
          "height": 505
        },
        "id": "d5T1yZvTr1PR",
        "outputId": "017b7bf2-2e7a-4072-8eb5-6b9861e5af33"
      },
      "execution_count": 171,
      "outputs": [
        {
          "output_type": "execute_result",
          "data": {
            "text/plain": [
              "<matplotlib.legend.Legend at 0x7b81b0509c90>"
            ]
          },
          "metadata": {},
          "execution_count": 171
        },
        {
          "output_type": "display_data",
          "data": {
            "text/plain": [
              "<Figure size 1000x500 with 1 Axes>"
            ],
            "image/png": "[encoded data removed]"
          },
          "metadata": {}
        }
      ]
    },
    {
      "cell_type": "code",
      "source": [
        "#@title Save the model\n",
        "\n",
        "torch.save(net.state_dict(), 'fcnn_1_100.pth')"
      ],
      "metadata": {
        "id": "6xepRa7gi-3h"
      },
      "execution_count": 172,
      "outputs": []
    },
    {
      "cell_type": "code",
      "source": [
        "#@title Evaluating the accuracy of the model\n",
        "\n",
        "from google.colab import files\n",
        "# files.download('fcnn_1_100.pth')\n",
        "net = FCNN(input_size, hidden_size, num_classes)  # Instantiate your model class\n",
        "net.load_state_dict(torch.load('fcnn_1_100.pth'))\n",
        "net.eval().cuda()  # Set the model to evaluation mode\n",
        "correct = 0\n",
        "total = 0\n",
        "for images,labels in test_loder:\n",
        "  images = Variable(images.view(-1,28*28)).cuda()\n",
        "  labels = labels.cuda()\n",
        "  output = net(images)\n",
        "  _, predicted = torch.max(output,1)\n",
        "  correct += (predicted == labels).sum()\n",
        "  total += labels.size(0)\n",
        "print('Accuracy of the net: %.3f %%' %((100*correct)/(total+1)))"
      ],
      "metadata": {
        "colab": {
          "base_uri": "https://localhost:8080/"
        },
        "id": "DLBA7ezGqBIM",
        "outputId": "f60cc028-ac3b-47fb-a4b4-c8ce948d91a7"
      },
      "execution_count": 173,
      "outputs": [
        {
          "output_type": "stream",
          "name": "stderr",
          "text": [
            "<ipython-input-173-da438994ef65>:6: FutureWarning: You are using `torch.load` with `weights_only=False` (the current default value), which uses the default pickle module implicitly. It is possible to construct malicious pickle data which will execute arbitrary code during unpickling (See https://github.com/pytorch/pytorch/blob/main/SECURITY.md#untrusted-models for more details). In a future release, the default value for `weights_only` will be flipped to `True`. This limits the functions that could be executed during unpickling. Arbitrary objects will no longer be allowed to be loaded via this mode unless they are explicitly allowlisted by the user via `torch.serialization.add_safe_globals`. We recommend you start setting `weights_only=True` for any use case where you don't have full control of the loaded file. Please open an issue on GitHub for any issues related to this experimental feature.\n",
            "  net.load_state_dict(torch.load('fcnn_1_100.pth'))\n"
          ]
        },
        {
          "output_type": "stream",
          "name": "stdout",
          "text": [
            "Accuracy of the net: 97.700 %\n"
          ]
        }
      ]
    },
    {
      "cell_type": "code",
      "source": [
        "#@title Test some examples in MNIST (Correct prediction: obvious)\n",
        "\n",
        "images = test_data.data\n",
        "labels = test_data.targets\n",
        "image = images[0].to(torch.float32)\n",
        "label = labels[0]\n",
        "plt.imshow(image.numpy().squeeze())\n",
        "net.cpu()\n",
        "output = net(image.view(-1,28*28));\n",
        "_, prediction = torch.max(output,1)\n",
        "# print(\"Image size:\",tuple(image.shape))\n",
        "print(\"Label of the image:\",label.numpy())\n",
        "print(\"The prediction:\",prediction.numpy())"
      ],
      "metadata": {
        "colab": {
          "base_uri": "https://localhost:8080/",
          "height": 466
        },
        "id": "Nv1hmNkAK_Pw",
        "outputId": "6c1eea70-155e-4ed4-93d3-539f2ebb2c6e"
      },
      "execution_count": 174,
      "outputs": [
        {
          "output_type": "stream",
          "name": "stdout",
          "text": [
            "Label of the image: 7\n",
            "The prediction: [7]\n"
          ]
        },
        {
          "output_type": "display_data",
          "data": {
            "text/plain": [
              "<Figure size 640x480 with 1 Axes>"
            ],
            "image/png": "[encoded data removed]"
          },
          "metadata": {}
        }
      ]
    },
    {
      "cell_type": "code",
      "source": [
        "#@title Test some examples in MNIST (Correct prediction: 6 or 0?)\n",
        "\n",
        "images = test_data.data\n",
        "labels = test_data.targets\n",
        "image = images[259].to(torch.float32)\n",
        "label = labels[259]\n",
        "plt.imshow(image.numpy().squeeze())\n",
        "net.cpu()\n",
        "output = net(image.view(-1,28*28));\n",
        "_, prediction = torch.max(output,1)\n",
        "# print(\"Image size:\",tuple(image.shape))\n",
        "print(\"Label of the image:\",label.numpy())\n",
        "print(\"The prediction:\",prediction.numpy())"
      ],
      "metadata": {
        "id": "k5slGf98Mq81",
        "colab": {
          "base_uri": "https://localhost:8080/",
          "height": 466
        },
        "outputId": "376ce677-e36c-49d8-b51f-f8fce085ce95"
      },
      "execution_count": 175,
      "outputs": [
        {
          "output_type": "stream",
          "name": "stdout",
          "text": [
            "Label of the image: 6\n",
            "The prediction: [0]\n"
          ]
        },
        {
          "output_type": "display_data",
          "data": {
            "text/plain": [
              "<Figure size 640x480 with 1 Axes>"
            ],
            "image/png": "[encoded data removed]"
          },
          "metadata": {}
        }
      ]
    },
    {
      "cell_type": "code",
      "source": [
        "#@title Test some examples in MNIST (Wrong prediction: 6 or 0?)\n",
        "\n",
        "images = test_data.data\n",
        "labels = test_data.targets\n",
        "image = images[445].to(torch.float32)\n",
        "label = labels[445]\n",
        "plt.imshow(image.numpy().squeeze())\n",
        "net.cpu()\n",
        "output = net(image.view(-1,28*28));\n",
        "_, prediction = torch.max(output,1)\n",
        "# print(\"Image size:\",tuple(image.shape))\n",
        "print(\"Label of the image:\",label.numpy())\n",
        "print(\"The prediction:\",prediction.numpy())"
      ],
      "metadata": {
        "colab": {
          "base_uri": "https://localhost:8080/",
          "height": 466
        },
        "id": "ha_Nererplom",
        "outputId": "f0ae913a-fcea-4075-ab71-f53d426f2ad6"
      },
      "execution_count": 176,
      "outputs": [
        {
          "output_type": "stream",
          "name": "stdout",
          "text": [
            "Label of the image: 6\n",
            "The prediction: [0]\n"
          ]
        },
        {
          "output_type": "display_data",
          "data": {
            "text/plain": [
              "<Figure size 640x480 with 1 Axes>"
            ],
            "image/png": "[encoded data removed]"
          },
          "metadata": {}
        }
      ]
    },
    {
      "cell_type": "code",
      "source": [
        "#@title Test some examples in MNIST (Wrong prediction)\n",
        "\n",
        "images = test_data.data\n",
        "labels = test_data.targets\n",
        "image = images[9729].to(torch.float32)\n",
        "label = labels[9729]\n",
        "plt.imshow(image.numpy().squeeze())\n",
        "net.cpu()\n",
        "output = net(image.view(-1,28*28));\n",
        "_, prediction = torch.max(output,1)\n",
        "# print(\"Image size:\",tuple(image.shape))\n",
        "print(\"Label of the image:\",label.numpy())\n",
        "print(\"The prediction:\",prediction.numpy())"
      ],
      "metadata": {
        "colab": {
          "base_uri": "https://localhost:8080/",
          "height": 466
        },
        "id": "WTdt_eHxniUf",
        "outputId": "d0d7427d-207b-4f61-c988-c66103b67bb4"
      },
      "execution_count": 177,
      "outputs": [
        {
          "output_type": "stream",
          "name": "stdout",
          "text": [
            "Label of the image: 5\n",
            "The prediction: [6]\n"
          ]
        },
        {
          "output_type": "display_data",
          "data": {
            "text/plain": [
              "<Figure size 640x480 with 1 Axes>"
            ],
            "image/png": "[encoded data removed]"
          },
          "metadata": {}
        }
      ]
    }
  ]
}