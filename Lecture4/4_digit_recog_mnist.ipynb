{
  "cells": [
    {
      "cell_type": "markdown",
      "metadata": {
        "id": "vaYudoJ1niI1"
      },
      "source": []
    },
    {
      "cell_type": "code",
      "execution_count": null,
      "metadata": {
        "colab": {
          "base_uri": "https://localhost:8080/"
        },
        "id": "9WvWcgWLnjqH",
        "outputId": "82002865-d5d4-49c0-b79d-cd033641ffd9"
      },
      "outputs": [
        {
          "name": "stdout",
          "output_type": "stream",
          "text": [
            "Requirement already satisfied: torch in /usr/local/lib/python3.11/dist-packages (2.5.1+cu124)\n",
            "Requirement already satisfied: filelock in /usr/local/lib/python3.11/dist-packages (from torch) (3.17.0)\n",
            "Requirement already satisfied: typing-extensions>=4.8.0 in /usr/local/lib/python3.11/dist-packages (from torch) (4.12.2)\n",
            "Requirement already satisfied: networkx in /usr/local/lib/python3.11/dist-packages (from torch) (3.4.2)\n",
            "Requirement already satisfied: jinja2 in /usr/local/lib/python3.11/dist-packages (from torch) (3.1.5)\n",
            "Requirement already satisfied: fsspec in /usr/local/lib/python3.11/dist-packages (from torch) (2024.10.0)\n",
            "Requirement already satisfied: nvidia-cuda-nvrtc-cu12==12.4.127 in /usr/local/lib/python3.11/dist-packages (from torch) (12.4.127)\n",
            "Requirement already satisfied: nvidia-cuda-runtime-cu12==12.4.127 in /usr/local/lib/python3.11/dist-packages (from torch) (12.4.127)\n",
            "Requirement already satisfied: nvidia-cuda-cupti-cu12==12.4.127 in /usr/local/lib/python3.11/dist-packages (from torch) (12.4.127)\n",
            "Requirement already satisfied: nvidia-cudnn-cu12==9.1.0.70 in /usr/local/lib/python3.11/dist-packages (from torch) (9.1.0.70)\n",
            "Requirement already satisfied: nvidia-cublas-cu12==12.4.5.8 in /usr/local/lib/python3.11/dist-packages (from torch) (12.4.5.8)\n",
            "Requirement already satisfied: nvidia-cufft-cu12==11.2.1.3 in /usr/local/lib/python3.11/dist-packages (from torch) (11.2.1.3)\n",
            "Requirement already satisfied: nvidia-curand-cu12==10.3.5.147 in /usr/local/lib/python3.11/dist-packages (from torch) (10.3.5.147)\n",
            "Requirement already satisfied: nvidia-cusolver-cu12==11.6.1.9 in /usr/local/lib/python3.11/dist-packages (from torch) (11.6.1.9)\n",
            "Requirement already satisfied: nvidia-cusparse-cu12==12.3.1.170 in /usr/local/lib/python3.11/dist-packages (from torch) (12.3.1.170)\n",
            "Requirement already satisfied: nvidia-nccl-cu12==2.21.5 in /usr/local/lib/python3.11/dist-packages (from torch) (2.21.5)\n",
            "Requirement already satisfied: nvidia-nvtx-cu12==12.4.127 in /usr/local/lib/python3.11/dist-packages (from torch) (12.4.127)\n",
            "Requirement already satisfied: nvidia-nvjitlink-cu12==12.4.127 in /usr/local/lib/python3.11/dist-packages (from torch) (12.4.127)\n",
            "Requirement already satisfied: triton==3.1.0 in /usr/local/lib/python3.11/dist-packages (from torch) (3.1.0)\n",
            "Requirement already satisfied: sympy==1.13.1 in /usr/local/lib/python3.11/dist-packages (from torch) (1.13.1)\n",
            "Requirement already satisfied: mpmath<1.4,>=1.1.0 in /usr/local/lib/python3.11/dist-packages (from sympy==1.13.1->torch) (1.3.0)\n",
            "Requirement already satisfied: MarkupSafe>=2.0 in /usr/local/lib/python3.11/dist-packages (from jinja2->torch) (3.0.2)\n",
            "Requirement already satisfied: torchvision in /usr/local/lib/python3.11/dist-packages (0.20.1+cu124)\n",
            "Requirement already satisfied: numpy in /usr/local/lib/python3.11/dist-packages (from torchvision) (1.26.4)\n",
            "Requirement already satisfied: torch==2.5.1 in /usr/local/lib/python3.11/dist-packages (from torchvision) (2.5.1+cu124)\n",
            "Requirement already satisfied: pillow!=8.3.*,>=5.3.0 in /usr/local/lib/python3.11/dist-packages (from torchvision) (11.1.0)\n",
            "Requirement already satisfied: filelock in /usr/local/lib/python3.11/dist-packages (from torch==2.5.1->torchvision) (3.17.0)\n",
            "Requirement already satisfied: typing-extensions>=4.8.0 in /usr/local/lib/python3.11/dist-packages (from torch==2.5.1->torchvision) (4.12.2)\n",
            "Requirement already satisfied: networkx in /usr/local/lib/python3.11/dist-packages (from torch==2.5.1->torchvision) (3.4.2)\n",
            "Requirement already satisfied: jinja2 in /usr/local/lib/python3.11/dist-packages (from torch==2.5.1->torchvision) (3.1.5)\n",
            "Requirement already satisfied: fsspec in /usr/local/lib/python3.11/dist-packages (from torch==2.5.1->torchvision) (2024.10.0)\n",
            "Requirement already satisfied: nvidia-cuda-nvrtc-cu12==12.4.127 in /usr/local/lib/python3.11/dist-packages (from torch==2.5.1->torchvision) (12.4.127)\n",
            "Requirement already satisfied: nvidia-cuda-runtime-cu12==12.4.127 in /usr/local/lib/python3.11/dist-packages (from torch==2.5.1->torchvision) (12.4.127)\n",
            "Requirement already satisfied: nvidia-cuda-cupti-cu12==12.4.127 in /usr/local/lib/python3.11/dist-packages (from torch==2.5.1->torchvision) (12.4.127)\n",
            "Requirement already satisfied: nvidia-cudnn-cu12==9.1.0.70 in /usr/local/lib/python3.11/dist-packages (from torch==2.5.1->torchvision) (9.1.0.70)\n",
            "Requirement already satisfied: nvidia-cublas-cu12==12.4.5.8 in /usr/local/lib/python3.11/dist-packages (from torch==2.5.1->torchvision) (12.4.5.8)\n",
            "Requirement already satisfied: nvidia-cufft-cu12==11.2.1.3 in /usr/local/lib/python3.11/dist-packages (from torch==2.5.1->torchvision) (11.2.1.3)\n",
            "Requirement already satisfied: nvidia-curand-cu12==10.3.5.147 in /usr/local/lib/python3.11/dist-packages (from torch==2.5.1->torchvision) (10.3.5.147)\n",
            "Requirement already satisfied: nvidia-cusolver-cu12==11.6.1.9 in /usr/local/lib/python3.11/dist-packages (from torch==2.5.1->torchvision) (11.6.1.9)\n",
            "Requirement already satisfied: nvidia-cusparse-cu12==12.3.1.170 in /usr/local/lib/python3.11/dist-packages (from torch==2.5.1->torchvision) (12.3.1.170)\n",
            "Requirement already satisfied: nvidia-nccl-cu12==2.21.5 in /usr/local/lib/python3.11/dist-packages (from torch==2.5.1->torchvision) (2.21.5)\n",
            "Requirement already satisfied: nvidia-nvtx-cu12==12.4.127 in /usr/local/lib/python3.11/dist-packages (from torch==2.5.1->torchvision) (12.4.127)\n",
            "Requirement already satisfied: nvidia-nvjitlink-cu12==12.4.127 in /usr/local/lib/python3.11/dist-packages (from torch==2.5.1->torchvision) (12.4.127)\n",
            "Requirement already satisfied: triton==3.1.0 in /usr/local/lib/python3.11/dist-packages (from torch==2.5.1->torchvision) (3.1.0)\n",
            "Requirement already satisfied: sympy==1.13.1 in /usr/local/lib/python3.11/dist-packages (from torch==2.5.1->torchvision) (1.13.1)\n",
            "Requirement already satisfied: mpmath<1.4,>=1.1.0 in /usr/local/lib/python3.11/dist-packages (from sympy==1.13.1->torch==2.5.1->torchvision) (1.3.0)\n",
            "Requirement already satisfied: MarkupSafe>=2.0 in /usr/local/lib/python3.11/dist-packages (from jinja2->torch==2.5.1->torchvision) (3.0.2)\n"
          ]
        }
      ],
      "source": [
        "#@title Insatlling PyTorch\n",
        "\n",
        "!pip install torch\n",
        "!pip install torchvision"
      ]
    },
    {
      "cell_type": "code",
      "execution_count": 1,
      "metadata": {
        "id": "E6v7hk6boFnO"
      },
      "outputs": [],
      "source": [
        "#@title Import dependencies\n",
        "\n",
        "import torch\n",
        "import torch.nn as nn\n",
        "import torchvision.datasets as dsets\n",
        "import torchvision.transforms as transforms\n",
        "import matplotlib.pyplot as plt\n",
        "from torch.autograd import Variable"
      ]
    },
    {
      "cell_type": "code",
      "execution_count": 2,
      "metadata": {
        "id": "prMdDbQKGSiV"
      },
      "outputs": [],
      "source": [
        "#@title Define hyperparameters\n",
        "\n",
        "input_size = 784 # img_size = (28,28) ---> 28*28=784 in total\n",
        "hidden_size = [100] # number of neurons at hidden layer\n",
        "num_classes = 10 # number of output classes discrete range [0,9]\n",
        "num_epochs = 20 # number of times which the entire dataset is passed throughout the model\n",
        "batch_size = 100 # the size of input data took for one iteration\n",
        "lr = 1e-3 # size of step"
      ]
    },
    {
      "cell_type": "code",
      "execution_count": 3,
      "metadata": {
        "colab": {
          "base_uri": "https://localhost:8080/"
        },
        "id": "ACOmeweToZUS",
        "outputId": "d754d826-5bae-4bf1-9f5c-ceb9c6ef7752"
      },
      "outputs": [
        {
          "output_type": "stream",
          "name": "stdout",
          "text": [
            "Downloading http://yann.lecun.com/exdb/mnist/train-images-idx3-ubyte.gz\n",
            "Failed to download (trying next):\n",
            "HTTP Error 404: Not Found\n",
            "\n",
            "Downloading https://ossci-datasets.s3.amazonaws.com/mnist/train-images-idx3-ubyte.gz\n",
            "Downloading https://ossci-datasets.s3.amazonaws.com/mnist/train-images-idx3-ubyte.gz to ./data/MNIST/raw/train-images-idx3-ubyte.gz\n"
          ]
        },
        {
          "output_type": "stream",
          "name": "stderr",
          "text": [
            "100%|██████████| 9.91M/9.91M [00:02<00:00, 4.43MB/s]\n"
          ]
        },
        {
          "output_type": "stream",
          "name": "stdout",
          "text": [
            "Extracting ./data/MNIST/raw/train-images-idx3-ubyte.gz to ./data/MNIST/raw\n",
            "\n",
            "Downloading http://yann.lecun.com/exdb/mnist/train-labels-idx1-ubyte.gz\n",
            "Failed to download (trying next):\n",
            "HTTP Error 404: Not Found\n",
            "\n",
            "Downloading https://ossci-datasets.s3.amazonaws.com/mnist/train-labels-idx1-ubyte.gz\n",
            "Downloading https://ossci-datasets.s3.amazonaws.com/mnist/train-labels-idx1-ubyte.gz to ./data/MNIST/raw/train-labels-idx1-ubyte.gz\n"
          ]
        },
        {
          "output_type": "stream",
          "name": "stderr",
          "text": [
            "100%|██████████| 28.9k/28.9k [00:00<00:00, 57.5kB/s]\n"
          ]
        },
        {
          "output_type": "stream",
          "name": "stdout",
          "text": [
            "Extracting ./data/MNIST/raw/train-labels-idx1-ubyte.gz to ./data/MNIST/raw\n",
            "\n",
            "Downloading http://yann.lecun.com/exdb/mnist/t10k-images-idx3-ubyte.gz\n",
            "Failed to download (trying next):\n",
            "HTTP Error 404: Not Found\n",
            "\n",
            "Downloading https://ossci-datasets.s3.amazonaws.com/mnist/t10k-images-idx3-ubyte.gz\n",
            "Downloading https://ossci-datasets.s3.amazonaws.com/mnist/t10k-images-idx3-ubyte.gz to ./data/MNIST/raw/t10k-images-idx3-ubyte.gz\n"
          ]
        },
        {
          "output_type": "stream",
          "name": "stderr",
          "text": [
            "100%|██████████| 1.65M/1.65M [00:06<00:00, 240kB/s]\n"
          ]
        },
        {
          "output_type": "stream",
          "name": "stdout",
          "text": [
            "Extracting ./data/MNIST/raw/t10k-images-idx3-ubyte.gz to ./data/MNIST/raw\n",
            "\n",
            "Downloading http://yann.lecun.com/exdb/mnist/t10k-labels-idx1-ubyte.gz\n",
            "Failed to download (trying next):\n",
            "HTTP Error 404: Not Found\n",
            "\n",
            "Downloading https://ossci-datasets.s3.amazonaws.com/mnist/t10k-labels-idx1-ubyte.gz\n",
            "Downloading https://ossci-datasets.s3.amazonaws.com/mnist/t10k-labels-idx1-ubyte.gz to ./data/MNIST/raw/t10k-labels-idx1-ubyte.gz\n"
          ]
        },
        {
          "output_type": "stream",
          "name": "stderr",
          "text": [
            "100%|██████████| 4.54k/4.54k [00:00<00:00, 10.0MB/s]"
          ]
        },
        {
          "output_type": "stream",
          "name": "stdout",
          "text": [
            "Extracting ./data/MNIST/raw/t10k-labels-idx1-ubyte.gz to ./data/MNIST/raw\n",
            "\n",
            "Size of the train dataset: (60000, 28, 28)\n",
            "Size of the test dataset: (10000, 28, 28)\n"
          ]
        },
        {
          "output_type": "stream",
          "name": "stderr",
          "text": [
            "\n"
          ]
        }
      ],
      "source": [
        "#@title Downloading MNIST data\n",
        "\n",
        "train_data = dsets.MNIST(root = './data', train = True,\n",
        "                        transform = transforms.ToTensor(), download = True)\n",
        "test_data = dsets.MNIST(root = './data', train = False,\n",
        "                       transform = transforms.ToTensor())\n",
        "print(\"Size of the train dataset:\",tuple(train_data.data.shape))\n",
        "print(\"Size of the test dataset:\",tuple(test_data.data.shape))"
      ]
    },
    {
      "cell_type": "code",
      "execution_count": 4,
      "metadata": {
        "id": "27ALQJtxoevE"
      },
      "outputs": [],
      "source": [
        "#@title Loading the data\n",
        "\n",
        "train_loader = torch.utils.data.DataLoader(dataset = train_data,\n",
        "                                             batch_size = batch_size,\n",
        "                                             shuffle = True)\n",
        "test_loder = torch.utils.data.DataLoader(dataset = test_data,\n",
        "                                      batch_size = batch_size,\n",
        "                                      shuffle = False)"
      ]
    },
    {
      "cell_type": "code",
      "execution_count": 20,
      "metadata": {
        "colab": {
          "base_uri": "https://localhost:8080/",
          "height": 484
        },
        "id": "uSCGZBr5Eun_",
        "outputId": "ae205890-5b2b-414d-e493-f3c3643103d2"
      },
      "outputs": [
        {
          "output_type": "stream",
          "name": "stdout",
          "text": [
            "Image size: torch.Size([28, 28])\n",
            "Label of this image: 3\n"
          ]
        },
        {
          "output_type": "execute_result",
          "data": {
            "text/plain": [
              "<matplotlib.image.AxesImage at 0x7f5004754510>"
            ]
          },
          "metadata": {},
          "execution_count": 20
        },
        {
          "output_type": "display_data",
          "data": {
            "text/plain": [
              "<Figure size 640x480 with 1 Axes>"
            ],
            "image/png": "[encoded data removed]"
          },
          "metadata": {}
        }
      ],
      "source": [
        "#@title Show the data\n",
        "\n",
        "images = train_data.data\n",
        "labels = train_data.targets\n",
        "image = images[7]\n",
        "label = labels[7]\n",
        "print(\"Image size:\",tuple(image.shape))\n",
        "print(\"Label of this image:\",label.numpy())\n",
        "plt.imshow(image.numpy().squeeze())"
      ]
    },
    {
      "cell_type": "code",
      "execution_count": 6,
      "metadata": {
        "id": "ZZ3vkuxlokMv"
      },
      "outputs": [],
      "source": [
        "#@title Define model class\n",
        "\n",
        "class FCNN(nn.Module):\n",
        "    def __init__(self, input_size, hidden_sizes, output_size):\n",
        "        super(FCNN, self).__init__()\n",
        "\n",
        "        layer_sizes = [input_size] + hidden_sizes + [output_size]\n",
        "        layers = []\n",
        "\n",
        "        for i in range(len(layer_sizes) - 1):\n",
        "            layers.append(nn.Linear(layer_sizes[i], layer_sizes[i+1]))\n",
        "            if i < len(layer_sizes) - 2:\n",
        "                layers.append(nn.ReLU())  # Using ReLU activation function\n",
        "\n",
        "        self.model = nn.Sequential(*layers)\n",
        "\n",
        "    def forward(self, x):\n",
        "        return self.model(x)"
      ]
    },
    {
      "cell_type": "code",
      "execution_count": 7,
      "metadata": {
        "id": "AotOLwnWo0rq"
      },
      "outputs": [],
      "source": [
        "#@title Build the model\n",
        "\n",
        "net = FCNN(input_size, hidden_size, num_classes)\n",
        "if torch.cuda.is_available():\n",
        "  net.cuda()"
      ]
    },
    {
      "cell_type": "code",
      "execution_count": 8,
      "metadata": {
        "id": "sLVB5Eh_pDke"
      },
      "outputs": [],
      "source": [
        "#@title Define loss-function & optimizer\n",
        "\n",
        "loss_function = nn.CrossEntropyLoss()\n",
        "optimizer = torch.optim.Adam( net.parameters(), lr=lr)"
      ]
    },
    {
      "cell_type": "code",
      "execution_count": 9,
      "metadata": {
        "colab": {
          "base_uri": "https://localhost:8080/"
        },
        "id": "PmekcRCNpKCQ",
        "outputId": "b6847820-e406-4ee0-8323-b4e88c0b389f"
      },
      "outputs": [
        {
          "output_type": "stream",
          "name": "stdout",
          "text": [
            "Epoch [1/20], Step [100/600], Loss: 0.3228\n",
            "Epoch [1/20], Step [200/600], Loss: 0.3353\n",
            "Epoch [1/20], Step [300/600], Loss: 0.4081\n",
            "Epoch [1/20], Step [400/600], Loss: 0.2491\n",
            "Epoch [1/20], Step [500/600], Loss: 0.1638\n",
            "Epoch [1/20], Step [600/600], Loss: 0.2690\n",
            "Epoch [2/20], Step [100/600], Loss: 0.1744\n",
            "Epoch [2/20], Step [200/600], Loss: 0.2062\n",
            "Epoch [2/20], Step [300/600], Loss: 0.2452\n",
            "Epoch [2/20], Step [400/600], Loss: 0.2223\n",
            "Epoch [2/20], Step [500/600], Loss: 0.1441\n",
            "Epoch [2/20], Step [600/600], Loss: 0.1267\n",
            "Epoch [3/20], Step [100/600], Loss: 0.1291\n",
            "Epoch [3/20], Step [200/600], Loss: 0.1516\n",
            "Epoch [3/20], Step [300/600], Loss: 0.0809\n",
            "Epoch [3/20], Step [400/600], Loss: 0.1455\n",
            "Epoch [3/20], Step [500/600], Loss: 0.1033\n",
            "Epoch [3/20], Step [600/600], Loss: 0.1350\n",
            "Epoch [4/20], Step [100/600], Loss: 0.1149\n",
            "Epoch [4/20], Step [200/600], Loss: 0.1866\n",
            "Epoch [4/20], Step [300/600], Loss: 0.1862\n",
            "Epoch [4/20], Step [400/600], Loss: 0.0794\n",
            "Epoch [4/20], Step [500/600], Loss: 0.0964\n",
            "Epoch [4/20], Step [600/600], Loss: 0.0572\n",
            "Epoch [5/20], Step [100/600], Loss: 0.1350\n",
            "Epoch [5/20], Step [200/600], Loss: 0.0681\n",
            "Epoch [5/20], Step [300/600], Loss: 0.0288\n",
            "Epoch [5/20], Step [400/600], Loss: 0.0646\n",
            "Epoch [5/20], Step [500/600], Loss: 0.0953\n",
            "Epoch [5/20], Step [600/600], Loss: 0.1511\n",
            "Epoch [6/20], Step [100/600], Loss: 0.0292\n",
            "Epoch [6/20], Step [200/600], Loss: 0.0793\n",
            "Epoch [6/20], Step [300/600], Loss: 0.0830\n",
            "Epoch [6/20], Step [400/600], Loss: 0.3053\n",
            "Epoch [6/20], Step [500/600], Loss: 0.0384\n",
            "Epoch [6/20], Step [600/600], Loss: 0.1681\n",
            "Epoch [7/20], Step [100/600], Loss: 0.0413\n",
            "Epoch [7/20], Step [200/600], Loss: 0.0511\n",
            "Epoch [7/20], Step [300/600], Loss: 0.0352\n",
            "Epoch [7/20], Step [400/600], Loss: 0.0708\n",
            "Epoch [7/20], Step [500/600], Loss: 0.0996\n",
            "Epoch [7/20], Step [600/600], Loss: 0.0795\n",
            "Epoch [8/20], Step [100/600], Loss: 0.0707\n",
            "Epoch [8/20], Step [200/600], Loss: 0.0615\n",
            "Epoch [8/20], Step [300/600], Loss: 0.0280\n",
            "Epoch [8/20], Step [400/600], Loss: 0.1566\n",
            "Epoch [8/20], Step [500/600], Loss: 0.0602\n",
            "Epoch [8/20], Step [600/600], Loss: 0.0354\n",
            "Epoch [9/20], Step [100/600], Loss: 0.0820\n",
            "Epoch [9/20], Step [200/600], Loss: 0.0798\n",
            "Epoch [9/20], Step [300/600], Loss: 0.0603\n",
            "Epoch [9/20], Step [400/600], Loss: 0.0296\n",
            "Epoch [9/20], Step [500/600], Loss: 0.0633\n",
            "Epoch [9/20], Step [600/600], Loss: 0.0502\n",
            "Epoch [10/20], Step [100/600], Loss: 0.0253\n",
            "Epoch [10/20], Step [200/600], Loss: 0.0273\n",
            "Epoch [10/20], Step [300/600], Loss: 0.0181\n",
            "Epoch [10/20], Step [400/600], Loss: 0.0670\n",
            "Epoch [10/20], Step [500/600], Loss: 0.0262\n",
            "Epoch [10/20], Step [600/600], Loss: 0.0133\n",
            "Epoch [11/20], Step [100/600], Loss: 0.0269\n",
            "Epoch [11/20], Step [200/600], Loss: 0.0182\n",
            "Epoch [11/20], Step [300/600], Loss: 0.0280\n",
            "Epoch [11/20], Step [400/600], Loss: 0.0458\n",
            "Epoch [11/20], Step [500/600], Loss: 0.0133\n",
            "Epoch [11/20], Step [600/600], Loss: 0.0180\n",
            "Epoch [12/20], Step [100/600], Loss: 0.0299\n",
            "Epoch [12/20], Step [200/600], Loss: 0.0290\n",
            "Epoch [12/20], Step [300/600], Loss: 0.0557\n",
            "Epoch [12/20], Step [400/600], Loss: 0.0213\n",
            "Epoch [12/20], Step [500/600], Loss: 0.0260\n",
            "Epoch [12/20], Step [600/600], Loss: 0.0153\n",
            "Epoch [13/20], Step [100/600], Loss: 0.0064\n",
            "Epoch [13/20], Step [200/600], Loss: 0.0139\n",
            "Epoch [13/20], Step [300/600], Loss: 0.0139\n",
            "Epoch [13/20], Step [400/600], Loss: 0.0105\n",
            "Epoch [13/20], Step [500/600], Loss: 0.0137\n",
            "Epoch [13/20], Step [600/600], Loss: 0.0184\n",
            "Epoch [14/20], Step [100/600], Loss: 0.0211\n",
            "Epoch [14/20], Step [200/600], Loss: 0.0108\n",
            "Epoch [14/20], Step [300/600], Loss: 0.0600\n",
            "Epoch [14/20], Step [400/600], Loss: 0.0166\n",
            "Epoch [14/20], Step [500/600], Loss: 0.0222\n",
            "Epoch [14/20], Step [600/600], Loss: 0.0249\n",
            "Epoch [15/20], Step [100/600], Loss: 0.0177\n",
            "Epoch [15/20], Step [200/600], Loss: 0.0101\n",
            "Epoch [15/20], Step [300/600], Loss: 0.0073\n",
            "Epoch [15/20], Step [400/600], Loss: 0.0069\n",
            "Epoch [15/20], Step [500/600], Loss: 0.0499\n",
            "Epoch [15/20], Step [600/600], Loss: 0.0260\n",
            "Epoch [16/20], Step [100/600], Loss: 0.0387\n",
            "Epoch [16/20], Step [200/600], Loss: 0.0125\n",
            "Epoch [16/20], Step [300/600], Loss: 0.0194\n",
            "Epoch [16/20], Step [400/600], Loss: 0.0119\n",
            "Epoch [16/20], Step [500/600], Loss: 0.0118\n",
            "Epoch [16/20], Step [600/600], Loss: 0.0277\n",
            "Epoch [17/20], Step [100/600], Loss: 0.0160\n",
            "Epoch [17/20], Step [200/600], Loss: 0.0052\n",
            "Epoch [17/20], Step [300/600], Loss: 0.0181\n",
            "Epoch [17/20], Step [400/600], Loss: 0.0138\n",
            "Epoch [17/20], Step [500/600], Loss: 0.0013\n",
            "Epoch [17/20], Step [600/600], Loss: 0.0156\n",
            "Epoch [18/20], Step [100/600], Loss: 0.0069\n",
            "Epoch [18/20], Step [200/600], Loss: 0.0053\n",
            "Epoch [18/20], Step [300/600], Loss: 0.0070\n",
            "Epoch [18/20], Step [400/600], Loss: 0.0095\n",
            "Epoch [18/20], Step [500/600], Loss: 0.0063\n",
            "Epoch [18/20], Step [600/600], Loss: 0.0162\n",
            "Epoch [19/20], Step [100/600], Loss: 0.0063\n",
            "Epoch [19/20], Step [200/600], Loss: 0.0044\n",
            "Epoch [19/20], Step [300/600], Loss: 0.0105\n",
            "Epoch [19/20], Step [400/600], Loss: 0.0126\n",
            "Epoch [19/20], Step [500/600], Loss: 0.0064\n",
            "Epoch [19/20], Step [600/600], Loss: 0.0087\n",
            "Epoch [20/20], Step [100/600], Loss: 0.0077\n",
            "Epoch [20/20], Step [200/600], Loss: 0.0329\n",
            "Epoch [20/20], Step [300/600], Loss: 0.0030\n",
            "Epoch [20/20], Step [400/600], Loss: 0.0078\n",
            "Epoch [20/20], Step [500/600], Loss: 0.0042\n",
            "Epoch [20/20], Step [600/600], Loss: 0.0028\n"
          ]
        }
      ],
      "source": [
        "#@title Training the model\n",
        "\n",
        "losses = []\n",
        "for epoch in range(num_epochs):\n",
        "  for i ,(images,labels) in enumerate(train_loader):\n",
        "    images = Variable(images.view(-1,28*28)).cuda()\n",
        "    labels = Variable(labels).cuda()\n",
        "    optimizer.zero_grad()\n",
        "    outputs = net(images)\n",
        "    loss = loss_function(outputs, labels)\n",
        "    loss.backward()\n",
        "    optimizer.step()\n",
        "\n",
        "    if (i+1) % batch_size == 0:\n",
        "      print('Epoch [%d/%d], Step [%d/%d], Loss: %.4f'\n",
        "                 %(epoch+1, num_epochs, i+1, len(train_data)//batch_size, loss.data))\n",
        "  losses.append(loss.data.cpu())"
      ]
    },
    {
      "cell_type": "code",
      "execution_count": 10,
      "metadata": {
        "colab": {
          "base_uri": "https://localhost:8080/",
          "height": 505
        },
        "id": "d5T1yZvTr1PR",
        "outputId": "822de3d9-612a-4c72-d4dc-4f3e5b9fe97b"
      },
      "outputs": [
        {
          "output_type": "execute_result",
          "data": {
            "text/plain": [
              "<matplotlib.legend.Legend at 0x7f5011e4cb10>"
            ]
          },
          "metadata": {},
          "execution_count": 10
        },
        {
          "output_type": "display_data",
          "data": {
            "text/plain": [
              "<Figure size 1000x500 with 1 Axes>"
            ],
            "image/png": "[encoded data removed]"
          },
          "metadata": {}
        }
      ],
      "source": [
        "# Plot the loss curve\n",
        "plt.figure(figsize=(10, 5))\n",
        "plt.plot(range(len(losses)), losses, label='Training Loss')\n",
        "plt.xlabel('Iterations')\n",
        "plt.ylabel('Loss')\n",
        "plt.title('Training Loss Curve')\n",
        "plt.legend()"
      ]
    },
    {
      "cell_type": "code",
      "execution_count": 12,
      "metadata": {
        "id": "6xepRa7gi-3h"
      },
      "outputs": [],
      "source": [
        "#@title Save the model\n",
        "\n",
        "torch.save(net.state_dict(), '/content/fcnn_1_100_100.pth')"
      ]
    },
    {
      "cell_type": "code",
      "execution_count": 13,
      "metadata": {
        "colab": {
          "base_uri": "https://localhost:8080/"
        },
        "id": "DLBA7ezGqBIM",
        "outputId": "d1db82e3-bb6f-4472-832b-afdb2bb207f6"
      },
      "outputs": [
        {
          "output_type": "stream",
          "name": "stderr",
          "text": [
            "<ipython-input-13-b08e99589864>:6: FutureWarning: You are using `torch.load` with `weights_only=False` (the current default value), which uses the default pickle module implicitly. It is possible to construct malicious pickle data which will execute arbitrary code during unpickling (See https://github.com/pytorch/pytorch/blob/main/SECURITY.md#untrusted-models for more details). In a future release, the default value for `weights_only` will be flipped to `True`. This limits the functions that could be executed during unpickling. Arbitrary objects will no longer be allowed to be loaded via this mode unless they are explicitly allowlisted by the user via `torch.serialization.add_safe_globals`. We recommend you start setting `weights_only=True` for any use case where you don't have full control of the loaded file. Please open an issue on GitHub for any issues related to this experimental feature.\n",
            "  net.load_state_dict(torch.load('/content/fcnn_1_100_100.pth'))\n"
          ]
        },
        {
          "output_type": "stream",
          "name": "stdout",
          "text": [
            "Accuracy of the net: 97.820 %\n"
          ]
        }
      ],
      "source": [
        "#@title Evaluating the accuracy of the model\n",
        "\n",
        "from google.colab import files\n",
        "# files.download('fcnn_1_100.pth')\n",
        "net = FCNN(input_size, hidden_size, num_classes)  # Instantiate your model class\n",
        "net.load_state_dict(torch.load('/content/fcnn_1_100_100.pth'))\n",
        "net.eval().cuda()  # Set the model to evaluation mode\n",
        "correct = 0\n",
        "total = 0\n",
        "for images,labels in test_loder:\n",
        "  images = Variable(images.view(-1,28*28)).cuda()\n",
        "  labels = labels.cuda()\n",
        "  output = net(images)\n",
        "  _, predicted = torch.max(output,1)\n",
        "  correct += (predicted == labels).sum()\n",
        "  total += labels.size(0)\n",
        "print('Accuracy of the net: %.3f %%' %((100*correct)/(total+1)))"
      ]
    },
    {
      "cell_type": "code",
      "execution_count": 14,
      "metadata": {
        "colab": {
          "base_uri": "https://localhost:8080/",
          "height": 466
        },
        "id": "Nv1hmNkAK_Pw",
        "outputId": "60bdd129-4ea4-45ac-de1f-6c558da5450c"
      },
      "outputs": [
        {
          "output_type": "stream",
          "name": "stdout",
          "text": [
            "Label of the image: 7\n",
            "The prediction: [7]\n"
          ]
        },
        {
          "output_type": "display_data",
          "data": {
            "text/plain": [
              "<Figure size 640x480 with 1 Axes>"
            ],
            "image/png": "[encoded data removed]"
          },
          "metadata": {}
        }
      ],
      "source": [
        "#@title Test some examples in MNIST (Correct prediction: obvious)\n",
        "\n",
        "images = test_data.data\n",
        "labels = test_data.targets\n",
        "image = images[0].to(torch.float32)\n",
        "label = labels[0]\n",
        "plt.imshow(image.numpy().squeeze())\n",
        "net.cpu()\n",
        "output = net(image.view(-1,28*28));\n",
        "_, prediction = torch.max(output,1)\n",
        "# print(\"Image size:\",tuple(image.shape))\n",
        "print(\"Label of the image:\",label.numpy())\n",
        "print(\"The prediction:\",prediction.numpy())"
      ]
    },
    {
      "cell_type": "code",
      "execution_count": 15,
      "metadata": {
        "colab": {
          "base_uri": "https://localhost:8080/",
          "height": 466
        },
        "id": "k5slGf98Mq81",
        "outputId": "172b7dca-9a01-4a29-e209-d0797b5c2bb4"
      },
      "outputs": [
        {
          "output_type": "stream",
          "name": "stdout",
          "text": [
            "Label of the image: 6\n",
            "The prediction: [6]\n"
          ]
        },
        {
          "output_type": "display_data",
          "data": {
            "text/plain": [
              "<Figure size 640x480 with 1 Axes>"
            ],
            "image/png": "[encoded data removed]"
          },
          "metadata": {}
        }
      ],
      "source": [
        "#@title Test some examples in MNIST (Correct prediction: 6 or 0?)\n",
        "\n",
        "images = test_data.data\n",
        "labels = test_data.targets\n",
        "image = images[259].to(torch.float32)\n",
        "label = labels[259]\n",
        "plt.imshow(image.numpy().squeeze())\n",
        "net.cpu()\n",
        "output = net(image.view(-1,28*28));\n",
        "_, prediction = torch.max(output,1)\n",
        "# print(\"Image size:\",tuple(image.shape))\n",
        "print(\"Label of the image:\",label.numpy())\n",
        "print(\"The prediction:\",prediction.numpy())"
      ]
    },
    {
      "cell_type": "code",
      "execution_count": 16,
      "metadata": {
        "colab": {
          "base_uri": "https://localhost:8080/",
          "height": 466
        },
        "id": "ha_Nererplom",
        "outputId": "42a5e37d-0c65-44e9-a09a-446052a9a458"
      },
      "outputs": [
        {
          "output_type": "stream",
          "name": "stdout",
          "text": [
            "Label of the image: 6\n",
            "The prediction: [0]\n"
          ]
        },
        {
          "output_type": "display_data",
          "data": {
            "text/plain": [
              "<Figure size 640x480 with 1 Axes>"
            ],
            "image/png": "[encoded data removed]"
          },
          "metadata": {}
        }
      ],
      "source": [
        "#@title Test some examples in MNIST (Wrong prediction: 6 or 0?)\n",
        "\n",
        "images = test_data.data\n",
        "labels = test_data.targets\n",
        "image = images[445].to(torch.float32)\n",
        "label = labels[445]\n",
        "plt.imshow(image.numpy().squeeze())\n",
        "net.cpu()\n",
        "output = net(image.view(-1,28*28));\n",
        "_, prediction = torch.max(output,1)\n",
        "# print(\"Image size:\",tuple(image.shape))\n",
        "print(\"Label of the image:\",label.numpy())\n",
        "print(\"The prediction:\",prediction.numpy())"
      ]
    },
    {
      "cell_type": "code",
      "execution_count": 17,
      "metadata": {
        "colab": {
          "base_uri": "https://localhost:8080/",
          "height": 466
        },
        "id": "WTdt_eHxniUf",
        "outputId": "e3c7e510-fbf9-4756-9798-a861cce08592"
      },
      "outputs": [
        {
          "output_type": "stream",
          "name": "stdout",
          "text": [
            "Label of the image: 5\n",
            "The prediction: [6]\n"
          ]
        },
        {
          "output_type": "display_data",
          "data": {
            "text/plain": [
              "<Figure size 640x480 with 1 Axes>"
            ],
            "image/png": "[encoded data removed]"
          },
          "metadata": {}
        }
      ],
      "source": [
        "#@title Test some examples in MNIST (Wrong prediction)\n",
        "\n",
        "images = test_data.data\n",
        "labels = test_data.targets\n",
        "image = images[9729].to(torch.float32)\n",
        "label = labels[9729]\n",
        "plt.imshow(image.numpy().squeeze())\n",
        "net.cpu()\n",
        "output = net(image.view(-1,28*28));\n",
        "_, prediction = torch.max(output,1)\n",
        "# print(\"Image size:\",tuple(image.shape))\n",
        "print(\"Label of the image:\",label.numpy())\n",
        "print(\"The prediction:\",prediction.numpy())"
      ]
    },
    {
      "cell_type": "code",
      "source": [
        "#@title Test real handwritten digits (Correct prediction)\n",
        "\n",
        "from PIL import Image\n",
        "import torchvision.transforms as transforms\n",
        "\n",
        "# Load the JPG image using PIL\n",
        "image_jpg = Image.open('/content/test8.jpg')\n",
        "transform = transforms.Compose([\n",
        "    transforms.Grayscale(),\n",
        "    transforms.Resize((28, 28)),\n",
        "    transforms.ToTensor()\n",
        "])\n",
        "image = 1-transform(image_jpg).squeeze()\n",
        "# print(image_tensor.shape)\n",
        "plt.imshow(image.numpy())\n",
        "net.cpu()\n",
        "output = net(image.view(-1,28*28));\n",
        "_, prediction = torch.max(output,1)\n",
        "# print(\"Image size:\",tuple(image.shape))\n",
        "print(\"Label of the image:\",8)\n",
        "print(\"The prediction:\",prediction.numpy())"
      ],
      "metadata": {
        "colab": {
          "base_uri": "https://localhost:8080/",
          "height": 466
        },
        "id": "jwN44Ns9h1l7",
        "outputId": "df45a6c6-98d9-4bcd-90f5-e1533c072876"
      },
      "execution_count": 39,
      "outputs": [
        {
          "output_type": "stream",
          "name": "stdout",
          "text": [
            "Label of the image: 8\n",
            "The prediction: [8]\n"
          ]
        },
        {
          "output_type": "display_data",
          "data": {
            "text/plain": [
              "<Figure size 640x480 with 1 Axes>"
            ],
            "image/png": "[encoded data removed]"
          },
          "metadata": {}
        }
      ]
    },
    {
      "cell_type": "code",
      "source": [
        "# Load the JPG image using PIL\n",
        "image_jpg = Image.open('/content/test1.jpg')\n",
        "transform = transforms.Compose([\n",
        "    transforms.Grayscale(),\n",
        "    transforms.Resize((28, 28)),\n",
        "    transforms.ToTensor()\n",
        "])\n",
        "image = 1-transform(image_jpg).squeeze()\n",
        "# print(image_tensor.shape)\n",
        "plt.imshow(image.numpy())\n",
        "net.cpu()\n",
        "output = net(image.view(-1,28*28));\n",
        "_, prediction = torch.max(output,1)\n",
        "# print(\"Image size:\",tuple(image.shape))\n",
        "print(\"Label of the image:\",1)\n",
        "print(\"The prediction:\",prediction.numpy())"
      ],
      "metadata": {
        "colab": {
          "base_uri": "https://localhost:8080/",
          "height": 466
        },
        "id": "VDMNkCTzswIZ",
        "outputId": "d7e55a90-44a8-4ca9-a7ce-64c1189a2b7f"
      },
      "execution_count": 41,
      "outputs": [
        {
          "output_type": "stream",
          "name": "stdout",
          "text": [
            "Label of the image: 1\n",
            "The prediction: [1]\n"
          ]
        },
        {
          "output_type": "display_data",
          "data": {
            "text/plain": [
              "<Figure size 640x480 with 1 Axes>"
            ],
            "image/png": "[encoded data removed]"
          },
          "metadata": {}
        }
      ]
    }
  ],
  "metadata": {
    "accelerator": "GPU",
    "colab": {
      "gpuType": "T4",
      "provenance": []
    },
    "kernelspec": {
      "display_name": "Python 3",
      "name": "python3"
    },
    "language_info": {
      "name": "python"
    }
  },
  "nbformat": 4,
  "nbformat_minor": 0
}