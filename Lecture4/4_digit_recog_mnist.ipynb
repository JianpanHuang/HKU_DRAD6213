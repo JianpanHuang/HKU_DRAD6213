{
  "cells": [
    {
      "cell_type": "markdown",
      "metadata": {
        "id": "vaYudoJ1niI1"
      },
      "source": []
    },
    {
      "cell_type": "code",
      "execution_count": 1,
      "metadata": {
        "colab": {
          "base_uri": "https://localhost:8080/"
        },
        "id": "9WvWcgWLnjqH",
        "outputId": "0ffddf36-abd6-45fb-c465-23f14398479b"
      },
      "outputs": [
        {
          "output_type": "stream",
          "name": "stdout",
          "text": [
            "Requirement already satisfied: torch in /usr/local/lib/python3.11/dist-packages (2.5.1+cu124)\n",
            "Requirement already satisfied: filelock in /usr/local/lib/python3.11/dist-packages (from torch) (3.17.0)\n",
            "Requirement already satisfied: typing-extensions>=4.8.0 in /usr/local/lib/python3.11/dist-packages (from torch) (4.12.2)\n",
            "Requirement already satisfied: networkx in /usr/local/lib/python3.11/dist-packages (from torch) (3.4.2)\n",
            "Requirement already satisfied: jinja2 in /usr/local/lib/python3.11/dist-packages (from torch) (3.1.5)\n",
            "Requirement already satisfied: fsspec in /usr/local/lib/python3.11/dist-packages (from torch) (2024.10.0)\n",
            "Collecting nvidia-cuda-nvrtc-cu12==12.4.127 (from torch)\n",
            "  Downloading nvidia_cuda_nvrtc_cu12-12.4.127-py3-none-manylinux2014_x86_64.whl.metadata (1.5 kB)\n",
            "Collecting nvidia-cuda-runtime-cu12==12.4.127 (from torch)\n",
            "  Downloading nvidia_cuda_runtime_cu12-12.4.127-py3-none-manylinux2014_x86_64.whl.metadata (1.5 kB)\n",
            "Collecting nvidia-cuda-cupti-cu12==12.4.127 (from torch)\n",
            "  Downloading nvidia_cuda_cupti_cu12-12.4.127-py3-none-manylinux2014_x86_64.whl.metadata (1.6 kB)\n",
            "Collecting nvidia-cudnn-cu12==9.1.0.70 (from torch)\n",
            "  Downloading nvidia_cudnn_cu12-9.1.0.70-py3-none-manylinux2014_x86_64.whl.metadata (1.6 kB)\n",
            "Collecting nvidia-cublas-cu12==12.4.5.8 (from torch)\n",
            "  Downloading nvidia_cublas_cu12-12.4.5.8-py3-none-manylinux2014_x86_64.whl.metadata (1.5 kB)\n",
            "Collecting nvidia-cufft-cu12==11.2.1.3 (from torch)\n",
            "  Downloading nvidia_cufft_cu12-11.2.1.3-py3-none-manylinux2014_x86_64.whl.metadata (1.5 kB)\n",
            "Collecting nvidia-curand-cu12==10.3.5.147 (from torch)\n",
            "  Downloading nvidia_curand_cu12-10.3.5.147-py3-none-manylinux2014_x86_64.whl.metadata (1.5 kB)\n",
            "Collecting nvidia-cusolver-cu12==11.6.1.9 (from torch)\n",
            "  Downloading nvidia_cusolver_cu12-11.6.1.9-py3-none-manylinux2014_x86_64.whl.metadata (1.6 kB)\n",
            "Collecting nvidia-cusparse-cu12==12.3.1.170 (from torch)\n",
            "  Downloading nvidia_cusparse_cu12-12.3.1.170-py3-none-manylinux2014_x86_64.whl.metadata (1.6 kB)\n",
            "Requirement already satisfied: nvidia-nccl-cu12==2.21.5 in /usr/local/lib/python3.11/dist-packages (from torch) (2.21.5)\n",
            "Requirement already satisfied: nvidia-nvtx-cu12==12.4.127 in /usr/local/lib/python3.11/dist-packages (from torch) (12.4.127)\n",
            "Collecting nvidia-nvjitlink-cu12==12.4.127 (from torch)\n",
            "  Downloading nvidia_nvjitlink_cu12-12.4.127-py3-none-manylinux2014_x86_64.whl.metadata (1.5 kB)\n",
            "Requirement already satisfied: triton==3.1.0 in /usr/local/lib/python3.11/dist-packages (from torch) (3.1.0)\n",
            "Requirement already satisfied: sympy==1.13.1 in /usr/local/lib/python3.11/dist-packages (from torch) (1.13.1)\n",
            "Requirement already satisfied: mpmath<1.4,>=1.1.0 in /usr/local/lib/python3.11/dist-packages (from sympy==1.13.1->torch) (1.3.0)\n",
            "Requirement already satisfied: MarkupSafe>=2.0 in /usr/local/lib/python3.11/dist-packages (from jinja2->torch) (3.0.2)\n",
            "Downloading nvidia_cublas_cu12-12.4.5.8-py3-none-manylinux2014_x86_64.whl (363.4 MB)\n",
            "\u001b[2K   \u001b[90m━━━━━━━━━━━━━━━━━━━━━━━━━━━━━━━━━━━━━━━━\u001b[0m \u001b[32m363.4/363.4 MB\u001b[0m \u001b[31m3.8 MB/s\u001b[0m eta \u001b[36m0:00:00\u001b[0m\n",
            "\u001b[?25hDownloading nvidia_cuda_cupti_cu12-12.4.127-py3-none-manylinux2014_x86_64.whl (13.8 MB)\n",
            "\u001b[2K   \u001b[90m━━━━━━━━━━━━━━━━━━━━━━━━━━━━━━━━━━━━━━━━\u001b[0m \u001b[32m13.8/13.8 MB\u001b[0m \u001b[31m65.2 MB/s\u001b[0m eta \u001b[36m0:00:00\u001b[0m\n",
            "\u001b[?25hDownloading nvidia_cuda_nvrtc_cu12-12.4.127-py3-none-manylinux2014_x86_64.whl (24.6 MB)\n",
            "\u001b[2K   \u001b[90m━━━━━━━━━━━━━━━━━━━━━━━━━━━━━━━━━━━━━━━━\u001b[0m \u001b[32m24.6/24.6 MB\u001b[0m \u001b[31m68.9 MB/s\u001b[0m eta \u001b[36m0:00:00\u001b[0m\n",
            "\u001b[?25hDownloading nvidia_cuda_runtime_cu12-12.4.127-py3-none-manylinux2014_x86_64.whl (883 kB)\n",
            "\u001b[2K   \u001b[90m━━━━━━━━━━━━━━━━━━━━━━━━━━━━━━━━━━━━━━━━\u001b[0m \u001b[32m883.7/883.7 kB\u001b[0m \u001b[31m42.2 MB/s\u001b[0m eta \u001b[36m0:00:00\u001b[0m\n",
            "\u001b[?25hDownloading nvidia_cudnn_cu12-9.1.0.70-py3-none-manylinux2014_x86_64.whl (664.8 MB)\n",
            "\u001b[2K   \u001b[90m━━━━━━━━━━━━━━━━━━━━━━━━━━━━━━━━━━━━━━━━\u001b[0m \u001b[32m664.8/664.8 MB\u001b[0m \u001b[31m1.3 MB/s\u001b[0m eta \u001b[36m0:00:00\u001b[0m\n",
            "\u001b[?25hDownloading nvidia_cufft_cu12-11.2.1.3-py3-none-manylinux2014_x86_64.whl (211.5 MB)\n",
            "\u001b[2K   \u001b[90m━━━━━━━━━━━━━━━━━━━━━━━━━━━━━━━━━━━━━━━━\u001b[0m \u001b[32m211.5/211.5 MB\u001b[0m \u001b[31m5.7 MB/s\u001b[0m eta \u001b[36m0:00:00\u001b[0m\n",
            "\u001b[?25hDownloading nvidia_curand_cu12-10.3.5.147-py3-none-manylinux2014_x86_64.whl (56.3 MB)\n",
            "\u001b[2K   \u001b[90m━━━━━━━━━━━━━━━━━━━━━━━━━━━━━━━━━━━━━━━━\u001b[0m \u001b[32m56.3/56.3 MB\u001b[0m \u001b[31m13.0 MB/s\u001b[0m eta \u001b[36m0:00:00\u001b[0m\n",
            "\u001b[?25hDownloading nvidia_cusolver_cu12-11.6.1.9-py3-none-manylinux2014_x86_64.whl (127.9 MB)\n",
            "\u001b[2K   \u001b[90m━━━━━━━━━━━━━━━━━━━━━━━━━━━━━━━━━━━━━━━━\u001b[0m \u001b[32m127.9/127.9 MB\u001b[0m \u001b[31m11.5 MB/s\u001b[0m eta \u001b[36m0:00:00\u001b[0m\n",
            "\u001b[?25hDownloading nvidia_cusparse_cu12-12.3.1.170-py3-none-manylinux2014_x86_64.whl (207.5 MB)\n",
            "\u001b[2K   \u001b[90m━━━━━━━━━━━━━━━━━━━━━━━━━━━━━━━━━━━━━━━━\u001b[0m \u001b[32m207.5/207.5 MB\u001b[0m \u001b[31m5.3 MB/s\u001b[0m eta \u001b[36m0:00:00\u001b[0m\n",
            "\u001b[?25hDownloading nvidia_nvjitlink_cu12-12.4.127-py3-none-manylinux2014_x86_64.whl (21.1 MB)\n",
            "\u001b[2K   \u001b[90m━━━━━━━━━━━━━━━━━━━━━━━━━━━━━━━━━━━━━━━━\u001b[0m \u001b[32m21.1/21.1 MB\u001b[0m \u001b[31m52.4 MB/s\u001b[0m eta \u001b[36m0:00:00\u001b[0m\n",
            "\u001b[?25hInstalling collected packages: nvidia-nvjitlink-cu12, nvidia-curand-cu12, nvidia-cufft-cu12, nvidia-cuda-runtime-cu12, nvidia-cuda-nvrtc-cu12, nvidia-cuda-cupti-cu12, nvidia-cublas-cu12, nvidia-cusparse-cu12, nvidia-cudnn-cu12, nvidia-cusolver-cu12\n",
            "  Attempting uninstall: nvidia-nvjitlink-cu12\n",
            "    Found existing installation: nvidia-nvjitlink-cu12 12.5.82\n",
            "    Uninstalling nvidia-nvjitlink-cu12-12.5.82:\n",
            "      Successfully uninstalled nvidia-nvjitlink-cu12-12.5.82\n",
            "  Attempting uninstall: nvidia-curand-cu12\n",
            "    Found existing installation: nvidia-curand-cu12 10.3.6.82\n",
            "    Uninstalling nvidia-curand-cu12-10.3.6.82:\n",
            "      Successfully uninstalled nvidia-curand-cu12-10.3.6.82\n",
            "  Attempting uninstall: nvidia-cufft-cu12\n",
            "    Found existing installation: nvidia-cufft-cu12 11.2.3.61\n",
            "    Uninstalling nvidia-cufft-cu12-11.2.3.61:\n",
            "      Successfully uninstalled nvidia-cufft-cu12-11.2.3.61\n",
            "  Attempting uninstall: nvidia-cuda-runtime-cu12\n",
            "    Found existing installation: nvidia-cuda-runtime-cu12 12.5.82\n",
            "    Uninstalling nvidia-cuda-runtime-cu12-12.5.82:\n",
            "      Successfully uninstalled nvidia-cuda-runtime-cu12-12.5.82\n",
            "  Attempting uninstall: nvidia-cuda-nvrtc-cu12\n",
            "    Found existing installation: nvidia-cuda-nvrtc-cu12 12.5.82\n",
            "    Uninstalling nvidia-cuda-nvrtc-cu12-12.5.82:\n",
            "      Successfully uninstalled nvidia-cuda-nvrtc-cu12-12.5.82\n",
            "  Attempting uninstall: nvidia-cuda-cupti-cu12\n",
            "    Found existing installation: nvidia-cuda-cupti-cu12 12.5.82\n",
            "    Uninstalling nvidia-cuda-cupti-cu12-12.5.82:\n",
            "      Successfully uninstalled nvidia-cuda-cupti-cu12-12.5.82\n",
            "  Attempting uninstall: nvidia-cublas-cu12\n",
            "    Found existing installation: nvidia-cublas-cu12 12.5.3.2\n",
            "    Uninstalling nvidia-cublas-cu12-12.5.3.2:\n",
            "      Successfully uninstalled nvidia-cublas-cu12-12.5.3.2\n",
            "  Attempting uninstall: nvidia-cusparse-cu12\n",
            "    Found existing installation: nvidia-cusparse-cu12 12.5.1.3\n",
            "    Uninstalling nvidia-cusparse-cu12-12.5.1.3:\n",
            "      Successfully uninstalled nvidia-cusparse-cu12-12.5.1.3\n",
            "  Attempting uninstall: nvidia-cudnn-cu12\n",
            "    Found existing installation: nvidia-cudnn-cu12 9.3.0.75\n",
            "    Uninstalling nvidia-cudnn-cu12-9.3.0.75:\n",
            "      Successfully uninstalled nvidia-cudnn-cu12-9.3.0.75\n",
            "  Attempting uninstall: nvidia-cusolver-cu12\n",
            "    Found existing installation: nvidia-cusolver-cu12 11.6.3.83\n",
            "    Uninstalling nvidia-cusolver-cu12-11.6.3.83:\n",
            "      Successfully uninstalled nvidia-cusolver-cu12-11.6.3.83\n",
            "Successfully installed nvidia-cublas-cu12-12.4.5.8 nvidia-cuda-cupti-cu12-12.4.127 nvidia-cuda-nvrtc-cu12-12.4.127 nvidia-cuda-runtime-cu12-12.4.127 nvidia-cudnn-cu12-9.1.0.70 nvidia-cufft-cu12-11.2.1.3 nvidia-curand-cu12-10.3.5.147 nvidia-cusolver-cu12-11.6.1.9 nvidia-cusparse-cu12-12.3.1.170 nvidia-nvjitlink-cu12-12.4.127\n",
            "Requirement already satisfied: torchvision in /usr/local/lib/python3.11/dist-packages (0.20.1+cu124)\n",
            "Requirement already satisfied: numpy in /usr/local/lib/python3.11/dist-packages (from torchvision) (1.26.4)\n",
            "Requirement already satisfied: torch==2.5.1 in /usr/local/lib/python3.11/dist-packages (from torchvision) (2.5.1+cu124)\n",
            "Requirement already satisfied: pillow!=8.3.*,>=5.3.0 in /usr/local/lib/python3.11/dist-packages (from torchvision) (11.1.0)\n",
            "Requirement already satisfied: filelock in /usr/local/lib/python3.11/dist-packages (from torch==2.5.1->torchvision) (3.17.0)\n",
            "Requirement already satisfied: typing-extensions>=4.8.0 in /usr/local/lib/python3.11/dist-packages (from torch==2.5.1->torchvision) (4.12.2)\n",
            "Requirement already satisfied: networkx in /usr/local/lib/python3.11/dist-packages (from torch==2.5.1->torchvision) (3.4.2)\n",
            "Requirement already satisfied: jinja2 in /usr/local/lib/python3.11/dist-packages (from torch==2.5.1->torchvision) (3.1.5)\n",
            "Requirement already satisfied: fsspec in /usr/local/lib/python3.11/dist-packages (from torch==2.5.1->torchvision) (2024.10.0)\n",
            "Requirement already satisfied: nvidia-cuda-nvrtc-cu12==12.4.127 in /usr/local/lib/python3.11/dist-packages (from torch==2.5.1->torchvision) (12.4.127)\n",
            "Requirement already satisfied: nvidia-cuda-runtime-cu12==12.4.127 in /usr/local/lib/python3.11/dist-packages (from torch==2.5.1->torchvision) (12.4.127)\n",
            "Requirement already satisfied: nvidia-cuda-cupti-cu12==12.4.127 in /usr/local/lib/python3.11/dist-packages (from torch==2.5.1->torchvision) (12.4.127)\n",
            "Requirement already satisfied: nvidia-cudnn-cu12==9.1.0.70 in /usr/local/lib/python3.11/dist-packages (from torch==2.5.1->torchvision) (9.1.0.70)\n",
            "Requirement already satisfied: nvidia-cublas-cu12==12.4.5.8 in /usr/local/lib/python3.11/dist-packages (from torch==2.5.1->torchvision) (12.4.5.8)\n",
            "Requirement already satisfied: nvidia-cufft-cu12==11.2.1.3 in /usr/local/lib/python3.11/dist-packages (from torch==2.5.1->torchvision) (11.2.1.3)\n",
            "Requirement already satisfied: nvidia-curand-cu12==10.3.5.147 in /usr/local/lib/python3.11/dist-packages (from torch==2.5.1->torchvision) (10.3.5.147)\n",
            "Requirement already satisfied: nvidia-cusolver-cu12==11.6.1.9 in /usr/local/lib/python3.11/dist-packages (from torch==2.5.1->torchvision) (11.6.1.9)\n",
            "Requirement already satisfied: nvidia-cusparse-cu12==12.3.1.170 in /usr/local/lib/python3.11/dist-packages (from torch==2.5.1->torchvision) (12.3.1.170)\n",
            "Requirement already satisfied: nvidia-nccl-cu12==2.21.5 in /usr/local/lib/python3.11/dist-packages (from torch==2.5.1->torchvision) (2.21.5)\n",
            "Requirement already satisfied: nvidia-nvtx-cu12==12.4.127 in /usr/local/lib/python3.11/dist-packages (from torch==2.5.1->torchvision) (12.4.127)\n",
            "Requirement already satisfied: nvidia-nvjitlink-cu12==12.4.127 in /usr/local/lib/python3.11/dist-packages (from torch==2.5.1->torchvision) (12.4.127)\n",
            "Requirement already satisfied: triton==3.1.0 in /usr/local/lib/python3.11/dist-packages (from torch==2.5.1->torchvision) (3.1.0)\n",
            "Requirement already satisfied: sympy==1.13.1 in /usr/local/lib/python3.11/dist-packages (from torch==2.5.1->torchvision) (1.13.1)\n",
            "Requirement already satisfied: mpmath<1.4,>=1.1.0 in /usr/local/lib/python3.11/dist-packages (from sympy==1.13.1->torch==2.5.1->torchvision) (1.3.0)\n",
            "Requirement already satisfied: MarkupSafe>=2.0 in /usr/local/lib/python3.11/dist-packages (from jinja2->torch==2.5.1->torchvision) (3.0.2)\n"
          ]
        }
      ],
      "source": [
        "#@title Insatlling PyTorch\n",
        "\n",
        "!pip install torch\n",
        "!pip install torchvision"
      ]
    },
    {
      "cell_type": "code",
      "execution_count": 2,
      "metadata": {
        "id": "E6v7hk6boFnO"
      },
      "outputs": [],
      "source": [
        "#@title Import dependencies\n",
        "\n",
        "import torch\n",
        "import torch.nn as nn\n",
        "import torchvision.datasets as dsets\n",
        "import torchvision.transforms as transforms\n",
        "import matplotlib.pyplot as plt\n",
        "from torch.autograd import Variable"
      ]
    },
    {
      "cell_type": "code",
      "execution_count": 3,
      "metadata": {
        "id": "prMdDbQKGSiV"
      },
      "outputs": [],
      "source": [
        "#@title Define hyperparameters\n",
        "\n",
        "input_size = 784 # img_size = (28,28) ---> 28*28=784 in total\n",
        "hidden_size = [100] # number of neurons at hidden layer\n",
        "num_classes = 10 # number of output classes discrete range [0,9]\n",
        "num_epochs = 20 # number of times which the entire dataset is passed throughout the model\n",
        "batch_size = 100 # the size of input data took for one iteration\n",
        "lr = 1e-3 # size of step"
      ]
    },
    {
      "cell_type": "code",
      "execution_count": 4,
      "metadata": {
        "colab": {
          "base_uri": "https://localhost:8080/"
        },
        "id": "ACOmeweToZUS",
        "outputId": "4d753ca9-755b-499e-db06-275a9edb2ab1"
      },
      "outputs": [
        {
          "output_type": "stream",
          "name": "stdout",
          "text": [
            "Downloading http://yann.lecun.com/exdb/mnist/train-images-idx3-ubyte.gz\n",
            "Failed to download (trying next):\n",
            "HTTP Error 404: Not Found\n",
            "\n",
            "Downloading https://ossci-datasets.s3.amazonaws.com/mnist/train-images-idx3-ubyte.gz\n",
            "Downloading https://ossci-datasets.s3.amazonaws.com/mnist/train-images-idx3-ubyte.gz to ./data/MNIST/raw/train-images-idx3-ubyte.gz\n"
          ]
        },
        {
          "output_type": "stream",
          "name": "stderr",
          "text": [
            "100%|██████████| 9.91M/9.91M [00:02<00:00, 4.77MB/s]\n"
          ]
        },
        {
          "output_type": "stream",
          "name": "stdout",
          "text": [
            "Extracting ./data/MNIST/raw/train-images-idx3-ubyte.gz to ./data/MNIST/raw\n",
            "\n",
            "Downloading http://yann.lecun.com/exdb/mnist/train-labels-idx1-ubyte.gz\n",
            "Failed to download (trying next):\n",
            "HTTP Error 404: Not Found\n",
            "\n",
            "Downloading https://ossci-datasets.s3.amazonaws.com/mnist/train-labels-idx1-ubyte.gz\n",
            "Downloading https://ossci-datasets.s3.amazonaws.com/mnist/train-labels-idx1-ubyte.gz to ./data/MNIST/raw/train-labels-idx1-ubyte.gz\n"
          ]
        },
        {
          "output_type": "stream",
          "name": "stderr",
          "text": [
            "100%|██████████| 28.9k/28.9k [00:00<00:00, 154kB/s]\n"
          ]
        },
        {
          "output_type": "stream",
          "name": "stdout",
          "text": [
            "Extracting ./data/MNIST/raw/train-labels-idx1-ubyte.gz to ./data/MNIST/raw\n",
            "\n",
            "Downloading http://yann.lecun.com/exdb/mnist/t10k-images-idx3-ubyte.gz\n",
            "Failed to download (trying next):\n",
            "HTTP Error 404: Not Found\n",
            "\n",
            "Downloading https://ossci-datasets.s3.amazonaws.com/mnist/t10k-images-idx3-ubyte.gz\n",
            "Downloading https://ossci-datasets.s3.amazonaws.com/mnist/t10k-images-idx3-ubyte.gz to ./data/MNIST/raw/t10k-images-idx3-ubyte.gz\n"
          ]
        },
        {
          "output_type": "stream",
          "name": "stderr",
          "text": [
            "100%|██████████| 1.65M/1.65M [00:01<00:00, 1.25MB/s]\n"
          ]
        },
        {
          "output_type": "stream",
          "name": "stdout",
          "text": [
            "Extracting ./data/MNIST/raw/t10k-images-idx3-ubyte.gz to ./data/MNIST/raw\n",
            "\n",
            "Downloading http://yann.lecun.com/exdb/mnist/t10k-labels-idx1-ubyte.gz\n",
            "Failed to download (trying next):\n",
            "HTTP Error 404: Not Found\n",
            "\n",
            "Downloading https://ossci-datasets.s3.amazonaws.com/mnist/t10k-labels-idx1-ubyte.gz\n",
            "Downloading https://ossci-datasets.s3.amazonaws.com/mnist/t10k-labels-idx1-ubyte.gz to ./data/MNIST/raw/t10k-labels-idx1-ubyte.gz\n"
          ]
        },
        {
          "output_type": "stream",
          "name": "stderr",
          "text": [
            "100%|██████████| 4.54k/4.54k [00:00<00:00, 5.95MB/s]"
          ]
        },
        {
          "output_type": "stream",
          "name": "stdout",
          "text": [
            "Extracting ./data/MNIST/raw/t10k-labels-idx1-ubyte.gz to ./data/MNIST/raw\n",
            "\n",
            "Size of the train dataset: (60000, 28, 28)\n",
            "Size of the test dataset: (10000, 28, 28)\n"
          ]
        },
        {
          "output_type": "stream",
          "name": "stderr",
          "text": [
            "\n"
          ]
        }
      ],
      "source": [
        "#@title Downloading MNIST data\n",
        "\n",
        "train_data = dsets.MNIST(root = './data', train = True,\n",
        "                        transform = transforms.ToTensor(), download = True)\n",
        "test_data = dsets.MNIST(root = './data', train = False,\n",
        "                       transform = transforms.ToTensor())\n",
        "print(\"Size of the train dataset:\",tuple(train_data.data.shape))\n",
        "print(\"Size of the test dataset:\",tuple(test_data.data.shape))"
      ]
    },
    {
      "cell_type": "code",
      "execution_count": 5,
      "metadata": {
        "id": "27ALQJtxoevE"
      },
      "outputs": [],
      "source": [
        "#@title Loading the data\n",
        "\n",
        "train_loader = torch.utils.data.DataLoader(dataset = train_data,\n",
        "                                             batch_size = batch_size,\n",
        "                                             shuffle = True)\n",
        "test_loder = torch.utils.data.DataLoader(dataset = test_data,\n",
        "                                      batch_size = batch_size,\n",
        "                                      shuffle = False)"
      ]
    },
    {
      "cell_type": "code",
      "execution_count": 6,
      "metadata": {
        "colab": {
          "base_uri": "https://localhost:8080/",
          "height": 484
        },
        "id": "uSCGZBr5Eun_",
        "outputId": "9558122d-ffba-4fe8-8248-3211b73fe5ba"
      },
      "outputs": [
        {
          "output_type": "stream",
          "name": "stdout",
          "text": [
            "Image size: (28, 28)\n",
            "Label of this image: 3\n"
          ]
        },
        {
          "output_type": "execute_result",
          "data": {
            "text/plain": [
              "<matplotlib.image.AxesImage at 0x7c4b2cc09550>"
            ]
          },
          "metadata": {},
          "execution_count": 6
        },
        {
          "output_type": "display_data",
          "data": {
            "text/plain": [
              "<Figure size 640x480 with 1 Axes>"
            ],
            "image/png": "[encoded data removed]"
          },
          "metadata": {}
        }
      ],
      "source": [
        "#@title Show the data\n",
        "\n",
        "images = train_data.data\n",
        "labels = train_data.targets\n",
        "image = images[7]\n",
        "label = labels[7]\n",
        "print(\"Image size:\",tuple(image.shape))\n",
        "print(\"Label of this image:\",label.numpy())\n",
        "plt.imshow(image.numpy().squeeze())"
      ]
    },
    {
      "cell_type": "code",
      "execution_count": 7,
      "metadata": {
        "id": "ZZ3vkuxlokMv"
      },
      "outputs": [],
      "source": [
        "#@title Define model class\n",
        "\n",
        "class FCNN(nn.Module):\n",
        "    def __init__(self, input_size, hidden_sizes, output_size):\n",
        "        super(FCNN, self).__init__()\n",
        "\n",
        "        layer_sizes = [input_size] + hidden_sizes + [output_size]\n",
        "        layers = []\n",
        "\n",
        "        for i in range(len(layer_sizes) - 1):\n",
        "            layers.append(nn.Linear(layer_sizes[i], layer_sizes[i+1]))\n",
        "            if i < len(layer_sizes) - 2:\n",
        "                layers.append(nn.ReLU())  # Using ReLU activation function\n",
        "\n",
        "        self.model = nn.Sequential(*layers)\n",
        "\n",
        "    def forward(self, x):\n",
        "        return self.model(x)"
      ]
    },
    {
      "cell_type": "code",
      "execution_count": 8,
      "metadata": {
        "id": "AotOLwnWo0rq"
      },
      "outputs": [],
      "source": [
        "#@title Build the model\n",
        "\n",
        "net = FCNN(input_size, hidden_size, num_classes)\n",
        "if torch.cuda.is_available():\n",
        "  net.cuda()"
      ]
    },
    {
      "cell_type": "code",
      "execution_count": 9,
      "metadata": {
        "id": "sLVB5Eh_pDke"
      },
      "outputs": [],
      "source": [
        "#@title Define loss-function & optimizer\n",
        "\n",
        "loss_function = nn.CrossEntropyLoss()\n",
        "optimizer = torch.optim.Adam( net.parameters(), lr=lr)"
      ]
    },
    {
      "cell_type": "code",
      "execution_count": 11,
      "metadata": {
        "colab": {
          "base_uri": "https://localhost:8080/"
        },
        "id": "PmekcRCNpKCQ",
        "outputId": "635eb6c2-f31d-41f8-ba0d-28504c4a79ed"
      },
      "outputs": [
        {
          "output_type": "stream",
          "name": "stdout",
          "text": [
            "Epoch [1/20], Step [100/600], Loss: 0.4098\n",
            "Epoch [1/20], Step [200/600], Loss: 0.2845\n",
            "Epoch [1/20], Step [300/600], Loss: 0.2940\n",
            "Epoch [1/20], Step [400/600], Loss: 0.2089\n",
            "Epoch [1/20], Step [500/600], Loss: 0.2894\n",
            "Epoch [1/20], Step [600/600], Loss: 0.2117\n",
            "Epoch [2/20], Step [100/600], Loss: 0.1400\n",
            "Epoch [2/20], Step [200/600], Loss: 0.2121\n",
            "Epoch [2/20], Step [300/600], Loss: 0.2128\n",
            "Epoch [2/20], Step [400/600], Loss: 0.1698\n",
            "Epoch [2/20], Step [500/600], Loss: 0.1034\n",
            "Epoch [2/20], Step [600/600], Loss: 0.1478\n",
            "Epoch [3/20], Step [100/600], Loss: 0.1920\n",
            "Epoch [3/20], Step [200/600], Loss: 0.1451\n",
            "Epoch [3/20], Step [300/600], Loss: 0.0893\n",
            "Epoch [3/20], Step [400/600], Loss: 0.1320\n",
            "Epoch [3/20], Step [500/600], Loss: 0.1048\n",
            "Epoch [3/20], Step [600/600], Loss: 0.1962\n",
            "Epoch [4/20], Step [100/600], Loss: 0.0620\n",
            "Epoch [4/20], Step [200/600], Loss: 0.0446\n",
            "Epoch [4/20], Step [300/600], Loss: 0.1045\n",
            "Epoch [4/20], Step [400/600], Loss: 0.1459\n",
            "Epoch [4/20], Step [500/600], Loss: 0.1036\n",
            "Epoch [4/20], Step [600/600], Loss: 0.1815\n",
            "Epoch [5/20], Step [100/600], Loss: 0.0766\n",
            "Epoch [5/20], Step [200/600], Loss: 0.0892\n",
            "Epoch [5/20], Step [300/600], Loss: 0.0474\n",
            "Epoch [5/20], Step [400/600], Loss: 0.1502\n",
            "Epoch [5/20], Step [500/600], Loss: 0.0866\n",
            "Epoch [5/20], Step [600/600], Loss: 0.1000\n",
            "Epoch [6/20], Step [100/600], Loss: 0.1568\n",
            "Epoch [6/20], Step [200/600], Loss: 0.0824\n",
            "Epoch [6/20], Step [300/600], Loss: 0.0861\n",
            "Epoch [6/20], Step [400/600], Loss: 0.0714\n",
            "Epoch [6/20], Step [500/600], Loss: 0.1599\n",
            "Epoch [6/20], Step [600/600], Loss: 0.0584\n",
            "Epoch [7/20], Step [100/600], Loss: 0.0162\n",
            "Epoch [7/20], Step [200/600], Loss: 0.0295\n",
            "Epoch [7/20], Step [300/600], Loss: 0.0669\n",
            "Epoch [7/20], Step [400/600], Loss: 0.0523\n",
            "Epoch [7/20], Step [500/600], Loss: 0.0503\n",
            "Epoch [7/20], Step [600/600], Loss: 0.0126\n",
            "Epoch [8/20], Step [100/600], Loss: 0.0777\n",
            "Epoch [8/20], Step [200/600], Loss: 0.0164\n",
            "Epoch [8/20], Step [300/600], Loss: 0.0474\n",
            "Epoch [8/20], Step [400/600], Loss: 0.0306\n",
            "Epoch [8/20], Step [500/600], Loss: 0.0285\n",
            "Epoch [8/20], Step [600/600], Loss: 0.1042\n",
            "Epoch [9/20], Step [100/600], Loss: 0.0222\n",
            "Epoch [9/20], Step [200/600], Loss: 0.0745\n",
            "Epoch [9/20], Step [300/600], Loss: 0.2154\n",
            "Epoch [9/20], Step [400/600], Loss: 0.0228\n",
            "Epoch [9/20], Step [500/600], Loss: 0.0320\n",
            "Epoch [9/20], Step [600/600], Loss: 0.0466\n",
            "Epoch [10/20], Step [100/600], Loss: 0.0685\n",
            "Epoch [10/20], Step [200/600], Loss: 0.0549\n",
            "Epoch [10/20], Step [300/600], Loss: 0.0205\n",
            "Epoch [10/20], Step [400/600], Loss: 0.0481\n",
            "Epoch [10/20], Step [500/600], Loss: 0.0106\n",
            "Epoch [10/20], Step [600/600], Loss: 0.0482\n",
            "Epoch [11/20], Step [100/600], Loss: 0.0374\n",
            "Epoch [11/20], Step [200/600], Loss: 0.0205\n",
            "Epoch [11/20], Step [300/600], Loss: 0.0437\n",
            "Epoch [11/20], Step [400/600], Loss: 0.0196\n",
            "Epoch [11/20], Step [500/600], Loss: 0.0390\n",
            "Epoch [11/20], Step [600/600], Loss: 0.0196\n",
            "Epoch [12/20], Step [100/600], Loss: 0.0382\n",
            "Epoch [12/20], Step [200/600], Loss: 0.0130\n",
            "Epoch [12/20], Step [300/600], Loss: 0.0188\n",
            "Epoch [12/20], Step [400/600], Loss: 0.0155\n",
            "Epoch [12/20], Step [500/600], Loss: 0.0074\n",
            "Epoch [12/20], Step [600/600], Loss: 0.0143\n",
            "Epoch [13/20], Step [100/600], Loss: 0.0166\n",
            "Epoch [13/20], Step [200/600], Loss: 0.0155\n",
            "Epoch [13/20], Step [300/600], Loss: 0.0170\n",
            "Epoch [13/20], Step [400/600], Loss: 0.0238\n",
            "Epoch [13/20], Step [500/600], Loss: 0.0032\n",
            "Epoch [13/20], Step [600/600], Loss: 0.0061\n",
            "Epoch [14/20], Step [100/600], Loss: 0.0151\n",
            "Epoch [14/20], Step [200/600], Loss: 0.0140\n",
            "Epoch [14/20], Step [300/600], Loss: 0.0156\n",
            "Epoch [14/20], Step [400/600], Loss: 0.0234\n",
            "Epoch [14/20], Step [500/600], Loss: 0.0161\n",
            "Epoch [14/20], Step [600/600], Loss: 0.0115\n",
            "Epoch [15/20], Step [100/600], Loss: 0.0154\n",
            "Epoch [15/20], Step [200/600], Loss: 0.0298\n",
            "Epoch [15/20], Step [300/600], Loss: 0.0202\n",
            "Epoch [15/20], Step [400/600], Loss: 0.0327\n",
            "Epoch [15/20], Step [500/600], Loss: 0.0126\n",
            "Epoch [15/20], Step [600/600], Loss: 0.0262\n",
            "Epoch [16/20], Step [100/600], Loss: 0.0366\n",
            "Epoch [16/20], Step [200/600], Loss: 0.0057\n",
            "Epoch [16/20], Step [300/600], Loss: 0.0378\n",
            "Epoch [16/20], Step [400/600], Loss: 0.0162\n",
            "Epoch [16/20], Step [500/600], Loss: 0.0194\n",
            "Epoch [16/20], Step [600/600], Loss: 0.0101\n",
            "Epoch [17/20], Step [100/600], Loss: 0.0167\n",
            "Epoch [17/20], Step [200/600], Loss: 0.0017\n",
            "Epoch [17/20], Step [300/600], Loss: 0.0478\n",
            "Epoch [17/20], Step [400/600], Loss: 0.0055\n",
            "Epoch [17/20], Step [500/600], Loss: 0.0303\n",
            "Epoch [17/20], Step [600/600], Loss: 0.0218\n",
            "Epoch [18/20], Step [100/600], Loss: 0.0015\n",
            "Epoch [18/20], Step [200/600], Loss: 0.0034\n",
            "Epoch [18/20], Step [300/600], Loss: 0.0206\n",
            "Epoch [18/20], Step [400/600], Loss: 0.0133\n",
            "Epoch [18/20], Step [500/600], Loss: 0.0166\n",
            "Epoch [18/20], Step [600/600], Loss: 0.0216\n",
            "Epoch [19/20], Step [100/600], Loss: 0.0146\n",
            "Epoch [19/20], Step [200/600], Loss: 0.0129\n",
            "Epoch [19/20], Step [300/600], Loss: 0.0015\n",
            "Epoch [19/20], Step [400/600], Loss: 0.0053\n",
            "Epoch [19/20], Step [500/600], Loss: 0.0098\n",
            "Epoch [19/20], Step [600/600], Loss: 0.0114\n",
            "Epoch [20/20], Step [100/600], Loss: 0.0063\n",
            "Epoch [20/20], Step [200/600], Loss: 0.0056\n",
            "Epoch [20/20], Step [300/600], Loss: 0.0158\n",
            "Epoch [20/20], Step [400/600], Loss: 0.0034\n",
            "Epoch [20/20], Step [500/600], Loss: 0.0071\n",
            "Epoch [20/20], Step [600/600], Loss: 0.0061\n"
          ]
        }
      ],
      "source": [
        "#@title Training the model\n",
        "\n",
        "losses = []\n",
        "for epoch in range(num_epochs):\n",
        "  for i ,(images,labels) in enumerate(train_loader):\n",
        "    # images = Variable(images.view(-1,28*28)).cuda() # (28,28) ---> 28*28=784\n",
        "    images = Variable(images.view(-1,28*28)) # (28,28) ---> 28*28=784\n",
        "    # labels = Variable(labels).cuda()\n",
        "    labels = Variable(labels)\n",
        "    optimizer.zero_grad()\n",
        "    outputs = net(images)\n",
        "    loss = loss_function(outputs, labels)\n",
        "    loss.backward()\n",
        "    optimizer.step()\n",
        "\n",
        "    if (i+1) % batch_size == 0:\n",
        "      print('Epoch [%d/%d], Step [%d/%d], Loss: %.4f'\n",
        "                 %(epoch+1, num_epochs, i+1, len(train_data)//batch_size, loss.data))\n",
        "  losses.append(loss.data.cpu())"
      ]
    },
    {
      "cell_type": "code",
      "execution_count": 12,
      "metadata": {
        "colab": {
          "base_uri": "https://localhost:8080/",
          "height": 505
        },
        "id": "d5T1yZvTr1PR",
        "outputId": "981178c2-d7c4-4461-96db-f7c5e2ae2538"
      },
      "outputs": [
        {
          "output_type": "execute_result",
          "data": {
            "text/plain": [
              "<matplotlib.legend.Legend at 0x7c4b2c9b6550>"
            ]
          },
          "metadata": {},
          "execution_count": 12
        },
        {
          "output_type": "display_data",
          "data": {
            "text/plain": [
              "<Figure size 1000x500 with 1 Axes>"
            ],
            "image/png": "[encoded data removed]"
          },
          "metadata": {}
        }
      ],
      "source": [
        "# Plot the loss curve\n",
        "plt.figure(figsize=(10, 5))\n",
        "plt.plot(range(len(losses)), losses, label='Training Loss')\n",
        "plt.xlabel('Iterations')\n",
        "plt.ylabel('Loss')\n",
        "plt.title('Training Loss Curve')\n",
        "plt.legend()"
      ]
    },
    {
      "cell_type": "code",
      "execution_count": 13,
      "metadata": {
        "id": "6xepRa7gi-3h"
      },
      "outputs": [],
      "source": [
        "#@title Save the model\n",
        "\n",
        "torch.save(net.state_dict(), '/content/fcnn_1_100_100.pth')"
      ]
    },
    {
      "cell_type": "code",
      "execution_count": 17,
      "metadata": {
        "colab": {
          "base_uri": "https://localhost:8080/"
        },
        "id": "DLBA7ezGqBIM",
        "outputId": "9456824c-fcf5-4151-99b8-46f538581b05"
      },
      "outputs": [
        {
          "output_type": "stream",
          "name": "stderr",
          "text": [
            "<ipython-input-17-c8e86eac816f>:6: FutureWarning: You are using `torch.load` with `weights_only=False` (the current default value), which uses the default pickle module implicitly. It is possible to construct malicious pickle data which will execute arbitrary code during unpickling (See https://github.com/pytorch/pytorch/blob/main/SECURITY.md#untrusted-models for more details). In a future release, the default value for `weights_only` will be flipped to `True`. This limits the functions that could be executed during unpickling. Arbitrary objects will no longer be allowed to be loaded via this mode unless they are explicitly allowlisted by the user via `torch.serialization.add_safe_globals`. We recommend you start setting `weights_only=True` for any use case where you don't have full control of the loaded file. Please open an issue on GitHub for any issues related to this experimental feature.\n",
            "  net.load_state_dict(torch.load('/content/fcnn_1_100_100.pth'))\n"
          ]
        },
        {
          "output_type": "stream",
          "name": "stdout",
          "text": [
            "Accuracy of the net: 97.830 %\n"
          ]
        }
      ],
      "source": [
        "#@title Evaluating the accuracy of the model\n",
        "\n",
        "from google.colab import files\n",
        "# files.download('fcnn_1_100.pth')\n",
        "net = FCNN(input_size, hidden_size, num_classes)  # Instantiate your model class\n",
        "net.load_state_dict(torch.load('/content/fcnn_1_100_100.pth'))\n",
        "# net.eval().cuda()  # Set the model to evaluation mode\n",
        "net.eval()  # Set the model to evaluation mode\n",
        "correct = 0\n",
        "total = 0\n",
        "for images,labels in test_loder:\n",
        "  # images = Variable(images.view(-1,28*28)).cuda() # (28,28) ---> 28*28=784\n",
        "  images = Variable(images.view(-1,28*28)) # (28,28) ---> 28*28=784\n",
        "  # labels = labels.cuda()\n",
        "  labels = labels\n",
        "  output = net(images)\n",
        "  _, predicted = torch.max(output,1)\n",
        "  correct += (predicted == labels).sum()\n",
        "  total += labels.size(0)\n",
        "print('Accuracy of the net: %.3f %%' %((100*correct)/(total+1)))"
      ]
    },
    {
      "cell_type": "code",
      "execution_count": 18,
      "metadata": {
        "colab": {
          "base_uri": "https://localhost:8080/",
          "height": 466
        },
        "id": "Nv1hmNkAK_Pw",
        "outputId": "e5dd0214-62ac-408d-c6cf-dcb56913ec91"
      },
      "outputs": [
        {
          "output_type": "stream",
          "name": "stdout",
          "text": [
            "Label of the image: 7\n",
            "The prediction: [7]\n"
          ]
        },
        {
          "output_type": "display_data",
          "data": {
            "text/plain": [
              "<Figure size 640x480 with 1 Axes>"
            ],
            "image/png": "[encoded data removed]"
          },
          "metadata": {}
        }
      ],
      "source": [
        "#@title Test some examples in MNIST (Correct prediction: obvious)\n",
        "\n",
        "images = test_data.data\n",
        "labels = test_data.targets\n",
        "image = images[0].to(torch.float32)\n",
        "label = labels[0]\n",
        "plt.imshow(image.numpy().squeeze())\n",
        "net.cpu()\n",
        "output = net(image.view(-1,28*28));\n",
        "_, prediction = torch.max(output,1)\n",
        "# print(\"Image size:\",tuple(image.shape))\n",
        "print(\"Label of the image:\",label.numpy())\n",
        "print(\"The prediction:\",prediction.numpy())"
      ]
    },
    {
      "cell_type": "code",
      "execution_count": 19,
      "metadata": {
        "colab": {
          "base_uri": "https://localhost:8080/",
          "height": 466
        },
        "id": "k5slGf98Mq81",
        "outputId": "2dad1468-6d5e-48b2-a258-f952fcd3ec9c"
      },
      "outputs": [
        {
          "output_type": "stream",
          "name": "stdout",
          "text": [
            "Label of the image: 6\n",
            "The prediction: [6]\n"
          ]
        },
        {
          "output_type": "display_data",
          "data": {
            "text/plain": [
              "<Figure size 640x480 with 1 Axes>"
            ],
            "image/png": "[encoded data removed]"
          },
          "metadata": {}
        }
      ],
      "source": [
        "#@title Test some examples in MNIST (Correct prediction: 6 or 0?)\n",
        "\n",
        "images = test_data.data\n",
        "labels = test_data.targets\n",
        "image = images[259].to(torch.float32)\n",
        "label = labels[259]\n",
        "plt.imshow(image.numpy().squeeze())\n",
        "net.cpu()\n",
        "output = net(image.view(-1,28*28));\n",
        "_, prediction = torch.max(output,1)\n",
        "# print(\"Image size:\",tuple(image.shape))\n",
        "print(\"Label of the image:\",label.numpy())\n",
        "print(\"The prediction:\",prediction.numpy())"
      ]
    },
    {
      "cell_type": "code",
      "execution_count": 20,
      "metadata": {
        "colab": {
          "base_uri": "https://localhost:8080/",
          "height": 466
        },
        "id": "ha_Nererplom",
        "outputId": "874ad55e-8863-4818-91d4-e63d47262a9f"
      },
      "outputs": [
        {
          "output_type": "stream",
          "name": "stdout",
          "text": [
            "Label of the image: 6\n",
            "The prediction: [0]\n"
          ]
        },
        {
          "output_type": "display_data",
          "data": {
            "text/plain": [
              "<Figure size 640x480 with 1 Axes>"
            ],
            "image/png": "[encoded data removed]"
          },
          "metadata": {}
        }
      ],
      "source": [
        "#@title Test some examples in MNIST (Wrong prediction: 6 or 0?)\n",
        "\n",
        "images = test_data.data\n",
        "labels = test_data.targets\n",
        "image = images[445].to(torch.float32)\n",
        "label = labels[445]\n",
        "plt.imshow(image.numpy().squeeze())\n",
        "net.cpu()\n",
        "output = net(image.view(-1,28*28));\n",
        "_, prediction = torch.max(output,1)\n",
        "# print(\"Image size:\",tuple(image.shape))\n",
        "print(\"Label of the image:\",label.numpy())\n",
        "print(\"The prediction:\",prediction.numpy())"
      ]
    },
    {
      "cell_type": "code",
      "execution_count": 21,
      "metadata": {
        "colab": {
          "base_uri": "https://localhost:8080/",
          "height": 466
        },
        "id": "WTdt_eHxniUf",
        "outputId": "5403e354-1df6-454e-efc3-d351c1dd40e2"
      },
      "outputs": [
        {
          "output_type": "stream",
          "name": "stdout",
          "text": [
            "Label of the image: 5\n",
            "The prediction: [6]\n"
          ]
        },
        {
          "output_type": "display_data",
          "data": {
            "text/plain": [
              "<Figure size 640x480 with 1 Axes>"
            ],
            "image/png": "[encoded data removed]"
          },
          "metadata": {}
        }
      ],
      "source": [
        "#@title Test some examples in MNIST (Wrong prediction)\n",
        "\n",
        "images = test_data.data\n",
        "labels = test_data.targets\n",
        "image = images[9729].to(torch.float32)\n",
        "label = labels[9729]\n",
        "plt.imshow(image.numpy().squeeze())\n",
        "net.cpu()\n",
        "output = net(image.view(-1,28*28));\n",
        "_, prediction = torch.max(output,1)\n",
        "# print(\"Image size:\",tuple(image.shape))\n",
        "print(\"Label of the image:\",label.numpy())\n",
        "print(\"The prediction:\",prediction.numpy())"
      ]
    },
    {
      "cell_type": "code",
      "source": [
        "#@title Test real handwritten digits (Correct prediction)\n",
        "\n",
        "from PIL import Image\n",
        "import torchvision.transforms as transforms\n",
        "\n",
        "# Load the JPG image using PIL\n",
        "image_jpg = Image.open('/content/test8.jpg')\n",
        "transform = transforms.Compose([\n",
        "    transforms.Grayscale(),\n",
        "    transforms.Resize((28, 28)),\n",
        "    transforms.ToTensor()\n",
        "])\n",
        "image = 1-transform(image_jpg).squeeze()\n",
        "# print(image_tensor.shape)\n",
        "plt.imshow(image.numpy())\n",
        "net.cpu()\n",
        "output = net(image.view(-1,28*28));\n",
        "_, prediction = torch.max(output,1)\n",
        "# print(\"Image size:\",tuple(image.shape))\n",
        "print(\"Label of the image:\",8)\n",
        "print(\"The prediction:\",prediction.numpy())"
      ],
      "metadata": {
        "colab": {
          "base_uri": "https://localhost:8080/",
          "height": 466
        },
        "id": "jwN44Ns9h1l7",
        "outputId": "f55d6301-e84c-4a93-c559-f9dc565982dc"
      },
      "execution_count": 23,
      "outputs": [
        {
          "output_type": "stream",
          "name": "stdout",
          "text": [
            "Label of the image: 8\n",
            "The prediction: [8]\n"
          ]
        },
        {
          "output_type": "display_data",
          "data": {
            "text/plain": [
              "<Figure size 640x480 with 1 Axes>"
            ],
            "image/png": "[encoded data removed]"
          },
          "metadata": {}
        }
      ]
    },
    {
      "cell_type": "code",
      "source": [
        "# Load the JPG image using PIL\n",
        "image_jpg = Image.open('/content/test1.jpg')\n",
        "transform = transforms.Compose([\n",
        "    transforms.Grayscale(),\n",
        "    transforms.Resize((28, 28)),\n",
        "    transforms.ToTensor()\n",
        "])\n",
        "image = 1-transform(image_jpg).squeeze()\n",
        "# print(image_tensor.shape)\n",
        "plt.imshow(image.numpy())\n",
        "net.cpu()\n",
        "output = net(image.view(-1,28*28));\n",
        "_, prediction = torch.max(output,1)\n",
        "# print(\"Image size:\",tuple(image.shape))\n",
        "print(\"Label of the image:\",1)\n",
        "print(\"The prediction:\",prediction.numpy())"
      ],
      "metadata": {
        "colab": {
          "base_uri": "https://localhost:8080/",
          "height": 466
        },
        "id": "VDMNkCTzswIZ",
        "outputId": "9ddf94b1-a910-41ac-d021-6be9808b83e9"
      },
      "execution_count": 24,
      "outputs": [
        {
          "output_type": "stream",
          "name": "stdout",
          "text": [
            "Label of the image: 1\n",
            "The prediction: [1]\n"
          ]
        },
        {
          "output_type": "display_data",
          "data": {
            "text/plain": [
              "<Figure size 640x480 with 1 Axes>"
            ],
            "image/png": "[encoded data removed]"
          },
          "metadata": {}
        }
      ]
    }
  ],
  "metadata": {
    "accelerator": "GPU",
    "colab": {
      "gpuType": "T4",
      "provenance": []
    },
    "kernelspec": {
      "display_name": "Python 3",
      "name": "python3"
    },
    "language_info": {
      "name": "python"
    }
  },
  "nbformat": 4,
  "nbformat_minor": 0
}