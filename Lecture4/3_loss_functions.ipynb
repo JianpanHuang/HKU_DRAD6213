{
  "cells": [
    {
      "cell_type": "code",
      "execution_count": 15,
      "metadata": {
        "id": "vDGHvSQH0C36"
      },
      "outputs": [],
      "source": [
        "#@title Import dependencies\n",
        "\n",
        "import numpy as np\n",
        "import matplotlib.pylab as plt"
      ]
    },
    {
      "cell_type": "code",
      "execution_count": 16,
      "metadata": {
        "id": "V1a7I07A0C36"
      },
      "outputs": [],
      "source": [
        "#@title Define a mean squared error (MSE) function\n",
        "def mse(y, t):\n",
        "    return 1/2 * np.sum((y-t)**2)"
      ]
    },
    {
      "cell_type": "code",
      "source": [
        "#@title Test the MSE function with a correct prediction\n",
        "# One-hot vector with a target digit of 3\n",
        "t = np.array([0, 0, 0, 1, 0, 0, 0, 0, 0, 0])\n",
        "# Output vector with a correct prediction of 3\n",
        "y = np.array([0.01, 0, .02, 0.90, 0, 0.03, 0.01, 0.01, 0, 0.02])\n",
        "# A small loss\n",
        "print(mse(y,t))"
      ],
      "metadata": {
        "colab": {
          "base_uri": "https://localhost:8080/"
        },
        "id": "91fx6muR0qB5",
        "outputId": "f3f63f90-68c2-4d79-abc3-8d193c70e991"
      },
      "execution_count": 17,
      "outputs": [
        {
          "output_type": "stream",
          "name": "stdout",
          "text": [
            "0.005999999999999997\n"
          ]
        }
      ]
    },
    {
      "cell_type": "code",
      "execution_count": 18,
      "metadata": {
        "colab": {
          "base_uri": "https://localhost:8080/"
        },
        "id": "FEQtGdNA0C37",
        "outputId": "0790257e-4751-4699-f306-b9ec38e81d04"
      },
      "outputs": [
        {
          "output_type": "stream",
          "name": "stdout",
          "text": [
            "0.8759999999999999\n"
          ]
        }
      ],
      "source": [
        "#@title Test the MSE function with a wrong prediction\n",
        "# Output vector with an incorrect prediction of 5\n",
        "y = np.array([0.01, 0, .02, 0.03, 0, 0.90, 0.01, 0.01, 0, 0.02])\n",
        "# A large loss\n",
        "print(mse(y,t))"
      ]
    },
    {
      "cell_type": "code",
      "execution_count": 19,
      "metadata": {
        "id": "qmpHJ9Br0C37"
      },
      "outputs": [],
      "source": [
        "#@title Define a cross entropy error (CEE) function\n",
        "def cee(y, t):\n",
        "    eps = 1e-8\n",
        "    return -np.sum(t * np.log(y + eps))"
      ]
    },
    {
      "cell_type": "code",
      "execution_count": 20,
      "metadata": {
        "colab": {
          "base_uri": "https://localhost:8080/"
        },
        "id": "aHQ-ZrZm0C37",
        "outputId": "ac172379-0a2e-4309-add7-74e2d3543a57"
      },
      "outputs": [
        {
          "output_type": "stream",
          "name": "stdout",
          "text": [
            "0.10536050454671517\n"
          ]
        }
      ],
      "source": [
        "#@title Test the CEE function with a correct prediction\n",
        "# One-hot vector with a target digit of 3\n",
        "t = np.array([0, 0, 0, 1, 0, 0, 0, 0, 0, 0])\n",
        "# Output vector with a correct prediction of 3\n",
        "y = np.array([0.01, 0, .02, 0.90, 0, 0.03, 0.01, 0.01, 0, 0.02])\n",
        "# A small loss\n",
        "print(cee(y,t))"
      ]
    },
    {
      "cell_type": "code",
      "execution_count": 21,
      "metadata": {
        "colab": {
          "base_uri": "https://localhost:8080/"
        },
        "id": "ey1ZYFCG0C37",
        "outputId": "e3ffa98a-a7e6-4c2e-d57b-49bfdfa34412"
      },
      "outputs": [
        {
          "output_type": "stream",
          "name": "stdout",
          "text": [
            "3.506557563986704\n"
          ]
        }
      ],
      "source": [
        "#@title Test the CEE function with a wrong prediction\n",
        "# Output vector with an incorrect prediction of 5\n",
        "y = np.array([0.01, 0, .02, 0.03, 0, 0.90, 0.01, 0.01, 0, 0.02])\n",
        "# A large loss\n",
        "print(cee(y,t))"
      ]
    },
    {
      "cell_type": "code",
      "execution_count": 22,
      "metadata": {
        "colab": {
          "base_uri": "https://localhost:8080/",
          "height": 472
        },
        "id": "1VkLUlN40C37",
        "outputId": "ff9c5616-551e-4db3-e859-aa37d0a12d36"
      },
      "outputs": [
        {
          "output_type": "display_data",
          "data": {
            "text/plain": [
              "<Figure size 640x480 with 1 Axes>"
            ],
            "image/png": "[encoded data removed]"
          },
          "metadata": {}
        }
      ],
      "source": [
        "#@title Plot log curve\n",
        "eps = 1e-8\n",
        "y3 = np.arange(0, 1, 0.01)\n",
        "err = -np.log(y3 + eps)\n",
        "plt.plot(y3, err)\n",
        "plt.ylim(0, 10) # set y range\n",
        "plt.xlabel(\"y\")\n",
        "plt.ylabel(\"-log(y)\")\n",
        "plt.title(\"-log(y) curve\")\n",
        "plt.show()"
      ]
    }
  ],
  "metadata": {
    "kernelspec": {
      "display_name": "DRAD6213",
      "language": "python",
      "name": "python3"
    },
    "language_info": {
      "codemirror_mode": {
        "name": "ipython",
        "version": 3
      },
      "file_extension": ".py",
      "mimetype": "text/x-python",
      "name": "python",
      "nbconvert_exporter": "python",
      "pygments_lexer": "ipython3",
      "version": "3.11.9"
    },
    "colab": {
      "provenance": []
    }
  },
  "nbformat": 4,
  "nbformat_minor": 0
}